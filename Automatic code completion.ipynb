{
  "nbformat": 4,
  "nbformat_minor": 0,
  "metadata": {
    "kernelspec": {
      "display_name": "Python 3",
      "language": "python",
      "name": "python3"
    },
    "language_info": {
      "codemirror_mode": {
        "name": "ipython",
        "version": 3
      },
      "file_extension": ".py",
      "mimetype": "text/x-python",
      "name": "python",
      "nbconvert_exporter": "python",
      "pygments_lexer": "ipython3",
      "version": "3.7.3"
    },
    "colab": {
      "name": "Copy of Json2Tkn.ipynb",
      "provenance": [],
      "collapsed_sections": [],
      "toc_visible": true
    },
    "widgets": {
      "application/vnd.jupyter.widget-state+json": {
        "ceabc6a39e1643b683980335bdfe44da": {
          "model_module": "@jupyter-widgets/controls",
          "model_name": "HBoxModel",
          "state": {
            "_view_name": "HBoxView",
            "_dom_classes": [],
            "_model_name": "HBoxModel",
            "_view_module": "@jupyter-widgets/controls",
            "_model_module_version": "1.5.0",
            "_view_count": null,
            "_view_module_version": "1.5.0",
            "box_style": "",
            "layout": "IPY_MODEL_8fb78626a4334b1b8b5510e666c61d85",
            "_model_module": "@jupyter-widgets/controls",
            "children": [
              "IPY_MODEL_1a3b5b5cd2c242d58c4fed047a9ecfcd",
              "IPY_MODEL_ae7505ec80c44bfcbb29bc51b7a77118"
            ]
          }
        },
        "8fb78626a4334b1b8b5510e666c61d85": {
          "model_module": "@jupyter-widgets/base",
          "model_name": "LayoutModel",
          "state": {
            "_view_name": "LayoutView",
            "grid_template_rows": null,
            "right": null,
            "justify_content": null,
            "_view_module": "@jupyter-widgets/base",
            "overflow": null,
            "_model_module_version": "1.2.0",
            "_view_count": null,
            "flex_flow": null,
            "width": null,
            "min_width": null,
            "border": null,
            "align_items": null,
            "bottom": null,
            "_model_module": "@jupyter-widgets/base",
            "top": null,
            "grid_column": null,
            "overflow_y": null,
            "overflow_x": null,
            "grid_auto_flow": null,
            "grid_area": null,
            "grid_template_columns": null,
            "flex": null,
            "_model_name": "LayoutModel",
            "justify_items": null,
            "grid_row": null,
            "max_height": null,
            "align_content": null,
            "visibility": null,
            "align_self": null,
            "height": null,
            "min_height": null,
            "padding": null,
            "grid_auto_rows": null,
            "grid_gap": null,
            "max_width": null,
            "order": null,
            "_view_module_version": "1.2.0",
            "grid_template_areas": null,
            "object_position": null,
            "object_fit": null,
            "grid_auto_columns": null,
            "margin": null,
            "display": null,
            "left": null
          }
        },
        "1a3b5b5cd2c242d58c4fed047a9ecfcd": {
          "model_module": "@jupyter-widgets/controls",
          "model_name": "FloatProgressModel",
          "state": {
            "_view_name": "ProgressView",
            "style": "IPY_MODEL_1d81d8e689954edbb29d7087adbd13b7",
            "_dom_classes": [],
            "description": "100%",
            "_model_name": "FloatProgressModel",
            "bar_style": "success",
            "max": 5,
            "_view_module": "@jupyter-widgets/controls",
            "_model_module_version": "1.5.0",
            "value": 5,
            "_view_count": null,
            "_view_module_version": "1.5.0",
            "orientation": "horizontal",
            "min": 0,
            "description_tooltip": null,
            "_model_module": "@jupyter-widgets/controls",
            "layout": "IPY_MODEL_963b508482984a008efb87d056cc7ddf"
          }
        },
        "ae7505ec80c44bfcbb29bc51b7a77118": {
          "model_module": "@jupyter-widgets/controls",
          "model_name": "HTMLModel",
          "state": {
            "_view_name": "HTMLView",
            "style": "IPY_MODEL_f24b351c491a4987983ec99c7f052bf9",
            "_dom_classes": [],
            "description": "",
            "_model_name": "HTMLModel",
            "placeholder": "​",
            "_view_module": "@jupyter-widgets/controls",
            "_model_module_version": "1.5.0",
            "value": " 5/5 [13:18&lt;00:00, 159.68s/it]",
            "_view_count": null,
            "_view_module_version": "1.5.0",
            "description_tooltip": null,
            "_model_module": "@jupyter-widgets/controls",
            "layout": "IPY_MODEL_4f6fb387ba484643a79d19b4ac584aea"
          }
        },
        "1d81d8e689954edbb29d7087adbd13b7": {
          "model_module": "@jupyter-widgets/controls",
          "model_name": "ProgressStyleModel",
          "state": {
            "_view_name": "StyleView",
            "_model_name": "ProgressStyleModel",
            "description_width": "initial",
            "_view_module": "@jupyter-widgets/base",
            "_model_module_version": "1.5.0",
            "_view_count": null,
            "_view_module_version": "1.2.0",
            "bar_color": null,
            "_model_module": "@jupyter-widgets/controls"
          }
        },
        "963b508482984a008efb87d056cc7ddf": {
          "model_module": "@jupyter-widgets/base",
          "model_name": "LayoutModel",
          "state": {
            "_view_name": "LayoutView",
            "grid_template_rows": null,
            "right": null,
            "justify_content": null,
            "_view_module": "@jupyter-widgets/base",
            "overflow": null,
            "_model_module_version": "1.2.0",
            "_view_count": null,
            "flex_flow": null,
            "width": null,
            "min_width": null,
            "border": null,
            "align_items": null,
            "bottom": null,
            "_model_module": "@jupyter-widgets/base",
            "top": null,
            "grid_column": null,
            "overflow_y": null,
            "overflow_x": null,
            "grid_auto_flow": null,
            "grid_area": null,
            "grid_template_columns": null,
            "flex": null,
            "_model_name": "LayoutModel",
            "justify_items": null,
            "grid_row": null,
            "max_height": null,
            "align_content": null,
            "visibility": null,
            "align_self": null,
            "height": null,
            "min_height": null,
            "padding": null,
            "grid_auto_rows": null,
            "grid_gap": null,
            "max_width": null,
            "order": null,
            "_view_module_version": "1.2.0",
            "grid_template_areas": null,
            "object_position": null,
            "object_fit": null,
            "grid_auto_columns": null,
            "margin": null,
            "display": null,
            "left": null
          }
        },
        "f24b351c491a4987983ec99c7f052bf9": {
          "model_module": "@jupyter-widgets/controls",
          "model_name": "DescriptionStyleModel",
          "state": {
            "_view_name": "StyleView",
            "_model_name": "DescriptionStyleModel",
            "description_width": "",
            "_view_module": "@jupyter-widgets/base",
            "_model_module_version": "1.5.0",
            "_view_count": null,
            "_view_module_version": "1.2.0",
            "_model_module": "@jupyter-widgets/controls"
          }
        },
        "4f6fb387ba484643a79d19b4ac584aea": {
          "model_module": "@jupyter-widgets/base",
          "model_name": "LayoutModel",
          "state": {
            "_view_name": "LayoutView",
            "grid_template_rows": null,
            "right": null,
            "justify_content": null,
            "_view_module": "@jupyter-widgets/base",
            "overflow": null,
            "_model_module_version": "1.2.0",
            "_view_count": null,
            "flex_flow": null,
            "width": null,
            "min_width": null,
            "border": null,
            "align_items": null,
            "bottom": null,
            "_model_module": "@jupyter-widgets/base",
            "top": null,
            "grid_column": null,
            "overflow_y": null,
            "overflow_x": null,
            "grid_auto_flow": null,
            "grid_area": null,
            "grid_template_columns": null,
            "flex": null,
            "_model_name": "LayoutModel",
            "justify_items": null,
            "grid_row": null,
            "max_height": null,
            "align_content": null,
            "visibility": null,
            "align_self": null,
            "height": null,
            "min_height": null,
            "padding": null,
            "grid_auto_rows": null,
            "grid_gap": null,
            "max_width": null,
            "order": null,
            "_view_module_version": "1.2.0",
            "grid_template_areas": null,
            "object_position": null,
            "object_fit": null,
            "grid_auto_columns": null,
            "margin": null,
            "display": null,
            "left": null
          }
        },
        "3b3916aec4844588ba70f194de841238": {
          "model_module": "@jupyter-widgets/controls",
          "model_name": "HBoxModel",
          "state": {
            "_view_name": "HBoxView",
            "_dom_classes": [],
            "_model_name": "HBoxModel",
            "_view_module": "@jupyter-widgets/controls",
            "_model_module_version": "1.5.0",
            "_view_count": null,
            "_view_module_version": "1.5.0",
            "box_style": "",
            "layout": "IPY_MODEL_e4448c190dfa441b898c5ed6f3645ddc",
            "_model_module": "@jupyter-widgets/controls",
            "children": [
              "IPY_MODEL_7197c71387d9455a974c555cafe69261",
              "IPY_MODEL_0699da97f6324db8ac2d2ad1fa353bb2"
            ]
          }
        },
        "e4448c190dfa441b898c5ed6f3645ddc": {
          "model_module": "@jupyter-widgets/base",
          "model_name": "LayoutModel",
          "state": {
            "_view_name": "LayoutView",
            "grid_template_rows": null,
            "right": null,
            "justify_content": null,
            "_view_module": "@jupyter-widgets/base",
            "overflow": null,
            "_model_module_version": "1.2.0",
            "_view_count": null,
            "flex_flow": null,
            "width": null,
            "min_width": null,
            "border": null,
            "align_items": null,
            "bottom": null,
            "_model_module": "@jupyter-widgets/base",
            "top": null,
            "grid_column": null,
            "overflow_y": null,
            "overflow_x": null,
            "grid_auto_flow": null,
            "grid_area": null,
            "grid_template_columns": null,
            "flex": null,
            "_model_name": "LayoutModel",
            "justify_items": null,
            "grid_row": null,
            "max_height": null,
            "align_content": null,
            "visibility": null,
            "align_self": null,
            "height": null,
            "min_height": null,
            "padding": null,
            "grid_auto_rows": null,
            "grid_gap": null,
            "max_width": null,
            "order": null,
            "_view_module_version": "1.2.0",
            "grid_template_areas": null,
            "object_position": null,
            "object_fit": null,
            "grid_auto_columns": null,
            "margin": null,
            "display": null,
            "left": null
          }
        },
        "7197c71387d9455a974c555cafe69261": {
          "model_module": "@jupyter-widgets/controls",
          "model_name": "FloatProgressModel",
          "state": {
            "_view_name": "ProgressView",
            "style": "IPY_MODEL_bd32b18c3a174d7d89f363bb8442821f",
            "_dom_classes": [],
            "description": "100%",
            "_model_name": "FloatProgressModel",
            "bar_style": "success",
            "max": 214,
            "_view_module": "@jupyter-widgets/controls",
            "_model_module_version": "1.5.0",
            "value": 214,
            "_view_count": null,
            "_view_module_version": "1.5.0",
            "orientation": "horizontal",
            "min": 0,
            "description_tooltip": null,
            "_model_module": "@jupyter-widgets/controls",
            "layout": "IPY_MODEL_346eece37f354a4ab1154dbbcd58355d"
          }
        },
        "0699da97f6324db8ac2d2ad1fa353bb2": {
          "model_module": "@jupyter-widgets/controls",
          "model_name": "HTMLModel",
          "state": {
            "_view_name": "HTMLView",
            "style": "IPY_MODEL_07913f1221d34f698123ddc9bd188b21",
            "_dom_classes": [],
            "description": "",
            "_model_name": "HTMLModel",
            "placeholder": "​",
            "_view_module": "@jupyter-widgets/controls",
            "_model_module_version": "1.5.0",
            "value": " 214/214 [00:00&lt;00:00, 2284.49it/s]",
            "_view_count": null,
            "_view_module_version": "1.5.0",
            "description_tooltip": null,
            "_model_module": "@jupyter-widgets/controls",
            "layout": "IPY_MODEL_51c9b40c71384e3f9a8702e64500735a"
          }
        },
        "bd32b18c3a174d7d89f363bb8442821f": {
          "model_module": "@jupyter-widgets/controls",
          "model_name": "ProgressStyleModel",
          "state": {
            "_view_name": "StyleView",
            "_model_name": "ProgressStyleModel",
            "description_width": "initial",
            "_view_module": "@jupyter-widgets/base",
            "_model_module_version": "1.5.0",
            "_view_count": null,
            "_view_module_version": "1.2.0",
            "bar_color": null,
            "_model_module": "@jupyter-widgets/controls"
          }
        },
        "346eece37f354a4ab1154dbbcd58355d": {
          "model_module": "@jupyter-widgets/base",
          "model_name": "LayoutModel",
          "state": {
            "_view_name": "LayoutView",
            "grid_template_rows": null,
            "right": null,
            "justify_content": null,
            "_view_module": "@jupyter-widgets/base",
            "overflow": null,
            "_model_module_version": "1.2.0",
            "_view_count": null,
            "flex_flow": null,
            "width": null,
            "min_width": null,
            "border": null,
            "align_items": null,
            "bottom": null,
            "_model_module": "@jupyter-widgets/base",
            "top": null,
            "grid_column": null,
            "overflow_y": null,
            "overflow_x": null,
            "grid_auto_flow": null,
            "grid_area": null,
            "grid_template_columns": null,
            "flex": null,
            "_model_name": "LayoutModel",
            "justify_items": null,
            "grid_row": null,
            "max_height": null,
            "align_content": null,
            "visibility": null,
            "align_self": null,
            "height": null,
            "min_height": null,
            "padding": null,
            "grid_auto_rows": null,
            "grid_gap": null,
            "max_width": null,
            "order": null,
            "_view_module_version": "1.2.0",
            "grid_template_areas": null,
            "object_position": null,
            "object_fit": null,
            "grid_auto_columns": null,
            "margin": null,
            "display": null,
            "left": null
          }
        },
        "07913f1221d34f698123ddc9bd188b21": {
          "model_module": "@jupyter-widgets/controls",
          "model_name": "DescriptionStyleModel",
          "state": {
            "_view_name": "StyleView",
            "_model_name": "DescriptionStyleModel",
            "description_width": "",
            "_view_module": "@jupyter-widgets/base",
            "_model_module_version": "1.5.0",
            "_view_count": null,
            "_view_module_version": "1.2.0",
            "_model_module": "@jupyter-widgets/controls"
          }
        },
        "51c9b40c71384e3f9a8702e64500735a": {
          "model_module": "@jupyter-widgets/base",
          "model_name": "LayoutModel",
          "state": {
            "_view_name": "LayoutView",
            "grid_template_rows": null,
            "right": null,
            "justify_content": null,
            "_view_module": "@jupyter-widgets/base",
            "overflow": null,
            "_model_module_version": "1.2.0",
            "_view_count": null,
            "flex_flow": null,
            "width": null,
            "min_width": null,
            "border": null,
            "align_items": null,
            "bottom": null,
            "_model_module": "@jupyter-widgets/base",
            "top": null,
            "grid_column": null,
            "overflow_y": null,
            "overflow_x": null,
            "grid_auto_flow": null,
            "grid_area": null,
            "grid_template_columns": null,
            "flex": null,
            "_model_name": "LayoutModel",
            "justify_items": null,
            "grid_row": null,
            "max_height": null,
            "align_content": null,
            "visibility": null,
            "align_self": null,
            "height": null,
            "min_height": null,
            "padding": null,
            "grid_auto_rows": null,
            "grid_gap": null,
            "max_width": null,
            "order": null,
            "_view_module_version": "1.2.0",
            "grid_template_areas": null,
            "object_position": null,
            "object_fit": null,
            "grid_auto_columns": null,
            "margin": null,
            "display": null,
            "left": null
          }
        },
        "7fb0bed868a0436a861e598bf7950435": {
          "model_module": "@jupyter-widgets/controls",
          "model_name": "HBoxModel",
          "state": {
            "_view_name": "HBoxView",
            "_dom_classes": [],
            "_model_name": "HBoxModel",
            "_view_module": "@jupyter-widgets/controls",
            "_model_module_version": "1.5.0",
            "_view_count": null,
            "_view_module_version": "1.5.0",
            "box_style": "",
            "layout": "IPY_MODEL_334fb668b3474406b00ade60edb1945a",
            "_model_module": "@jupyter-widgets/controls",
            "children": [
              "IPY_MODEL_d296f33061674600a69182f60415b7a6",
              "IPY_MODEL_428eca6f7fc543278542960fee801256"
            ]
          }
        },
        "334fb668b3474406b00ade60edb1945a": {
          "model_module": "@jupyter-widgets/base",
          "model_name": "LayoutModel",
          "state": {
            "_view_name": "LayoutView",
            "grid_template_rows": null,
            "right": null,
            "justify_content": null,
            "_view_module": "@jupyter-widgets/base",
            "overflow": null,
            "_model_module_version": "1.2.0",
            "_view_count": null,
            "flex_flow": null,
            "width": null,
            "min_width": null,
            "border": null,
            "align_items": null,
            "bottom": null,
            "_model_module": "@jupyter-widgets/base",
            "top": null,
            "grid_column": null,
            "overflow_y": null,
            "overflow_x": null,
            "grid_auto_flow": null,
            "grid_area": null,
            "grid_template_columns": null,
            "flex": null,
            "_model_name": "LayoutModel",
            "justify_items": null,
            "grid_row": null,
            "max_height": null,
            "align_content": null,
            "visibility": null,
            "align_self": null,
            "height": null,
            "min_height": null,
            "padding": null,
            "grid_auto_rows": null,
            "grid_gap": null,
            "max_width": null,
            "order": null,
            "_view_module_version": "1.2.0",
            "grid_template_areas": null,
            "object_position": null,
            "object_fit": null,
            "grid_auto_columns": null,
            "margin": null,
            "display": null,
            "left": null
          }
        },
        "d296f33061674600a69182f60415b7a6": {
          "model_module": "@jupyter-widgets/controls",
          "model_name": "FloatProgressModel",
          "state": {
            "_view_name": "ProgressView",
            "style": "IPY_MODEL_4ef7da8ef0f648b49344febb124d6d63",
            "_dom_classes": [],
            "description": "100%",
            "_model_name": "FloatProgressModel",
            "bar_style": "success",
            "max": 214,
            "_view_module": "@jupyter-widgets/controls",
            "_model_module_version": "1.5.0",
            "value": 214,
            "_view_count": null,
            "_view_module_version": "1.5.0",
            "orientation": "horizontal",
            "min": 0,
            "description_tooltip": null,
            "_model_module": "@jupyter-widgets/controls",
            "layout": "IPY_MODEL_d87b0efd58f7485f992a8ce43df91928"
          }
        },
        "428eca6f7fc543278542960fee801256": {
          "model_module": "@jupyter-widgets/controls",
          "model_name": "HTMLModel",
          "state": {
            "_view_name": "HTMLView",
            "style": "IPY_MODEL_a927132ec8084b03af50d298ee18f670",
            "_dom_classes": [],
            "description": "",
            "_model_name": "HTMLModel",
            "placeholder": "​",
            "_view_module": "@jupyter-widgets/controls",
            "_model_module_version": "1.5.0",
            "value": " 214/214 [03:58&lt;00:00,  1.12s/it]",
            "_view_count": null,
            "_view_module_version": "1.5.0",
            "description_tooltip": null,
            "_model_module": "@jupyter-widgets/controls",
            "layout": "IPY_MODEL_8640d12a3e764eb69f854e454cb80432"
          }
        },
        "4ef7da8ef0f648b49344febb124d6d63": {
          "model_module": "@jupyter-widgets/controls",
          "model_name": "ProgressStyleModel",
          "state": {
            "_view_name": "StyleView",
            "_model_name": "ProgressStyleModel",
            "description_width": "initial",
            "_view_module": "@jupyter-widgets/base",
            "_model_module_version": "1.5.0",
            "_view_count": null,
            "_view_module_version": "1.2.0",
            "bar_color": null,
            "_model_module": "@jupyter-widgets/controls"
          }
        },
        "d87b0efd58f7485f992a8ce43df91928": {
          "model_module": "@jupyter-widgets/base",
          "model_name": "LayoutModel",
          "state": {
            "_view_name": "LayoutView",
            "grid_template_rows": null,
            "right": null,
            "justify_content": null,
            "_view_module": "@jupyter-widgets/base",
            "overflow": null,
            "_model_module_version": "1.2.0",
            "_view_count": null,
            "flex_flow": null,
            "width": null,
            "min_width": null,
            "border": null,
            "align_items": null,
            "bottom": null,
            "_model_module": "@jupyter-widgets/base",
            "top": null,
            "grid_column": null,
            "overflow_y": null,
            "overflow_x": null,
            "grid_auto_flow": null,
            "grid_area": null,
            "grid_template_columns": null,
            "flex": null,
            "_model_name": "LayoutModel",
            "justify_items": null,
            "grid_row": null,
            "max_height": null,
            "align_content": null,
            "visibility": null,
            "align_self": null,
            "height": null,
            "min_height": null,
            "padding": null,
            "grid_auto_rows": null,
            "grid_gap": null,
            "max_width": null,
            "order": null,
            "_view_module_version": "1.2.0",
            "grid_template_areas": null,
            "object_position": null,
            "object_fit": null,
            "grid_auto_columns": null,
            "margin": null,
            "display": null,
            "left": null
          }
        },
        "a927132ec8084b03af50d298ee18f670": {
          "model_module": "@jupyter-widgets/controls",
          "model_name": "DescriptionStyleModel",
          "state": {
            "_view_name": "StyleView",
            "_model_name": "DescriptionStyleModel",
            "description_width": "",
            "_view_module": "@jupyter-widgets/base",
            "_model_module_version": "1.5.0",
            "_view_count": null,
            "_view_module_version": "1.2.0",
            "_model_module": "@jupyter-widgets/controls"
          }
        },
        "8640d12a3e764eb69f854e454cb80432": {
          "model_module": "@jupyter-widgets/base",
          "model_name": "LayoutModel",
          "state": {
            "_view_name": "LayoutView",
            "grid_template_rows": null,
            "right": null,
            "justify_content": null,
            "_view_module": "@jupyter-widgets/base",
            "overflow": null,
            "_model_module_version": "1.2.0",
            "_view_count": null,
            "flex_flow": null,
            "width": null,
            "min_width": null,
            "border": null,
            "align_items": null,
            "bottom": null,
            "_model_module": "@jupyter-widgets/base",
            "top": null,
            "grid_column": null,
            "overflow_y": null,
            "overflow_x": null,
            "grid_auto_flow": null,
            "grid_area": null,
            "grid_template_columns": null,
            "flex": null,
            "_model_name": "LayoutModel",
            "justify_items": null,
            "grid_row": null,
            "max_height": null,
            "align_content": null,
            "visibility": null,
            "align_self": null,
            "height": null,
            "min_height": null,
            "padding": null,
            "grid_auto_rows": null,
            "grid_gap": null,
            "max_width": null,
            "order": null,
            "_view_module_version": "1.2.0",
            "grid_template_areas": null,
            "object_position": null,
            "object_fit": null,
            "grid_auto_columns": null,
            "margin": null,
            "display": null,
            "left": null
          }
        },
        "7576c2ac833848e99de7119f4918ccbd": {
          "model_module": "@jupyter-widgets/controls",
          "model_name": "HBoxModel",
          "state": {
            "_view_name": "HBoxView",
            "_dom_classes": [],
            "_model_name": "HBoxModel",
            "_view_module": "@jupyter-widgets/controls",
            "_model_module_version": "1.5.0",
            "_view_count": null,
            "_view_module_version": "1.5.0",
            "box_style": "",
            "layout": "IPY_MODEL_47a0eb09b7fc43588cee4272f3c2d0f2",
            "_model_module": "@jupyter-widgets/controls",
            "children": [
              "IPY_MODEL_f5d3b0f0969d4db6876d0f4c1d35d712",
              "IPY_MODEL_2a2a48be1df142c393e52701b1f5edb4"
            ]
          }
        },
        "47a0eb09b7fc43588cee4272f3c2d0f2": {
          "model_module": "@jupyter-widgets/base",
          "model_name": "LayoutModel",
          "state": {
            "_view_name": "LayoutView",
            "grid_template_rows": null,
            "right": null,
            "justify_content": null,
            "_view_module": "@jupyter-widgets/base",
            "overflow": null,
            "_model_module_version": "1.2.0",
            "_view_count": null,
            "flex_flow": null,
            "width": null,
            "min_width": null,
            "border": null,
            "align_items": null,
            "bottom": null,
            "_model_module": "@jupyter-widgets/base",
            "top": null,
            "grid_column": null,
            "overflow_y": null,
            "overflow_x": null,
            "grid_auto_flow": null,
            "grid_area": null,
            "grid_template_columns": null,
            "flex": null,
            "_model_name": "LayoutModel",
            "justify_items": null,
            "grid_row": null,
            "max_height": null,
            "align_content": null,
            "visibility": null,
            "align_self": null,
            "height": null,
            "min_height": null,
            "padding": null,
            "grid_auto_rows": null,
            "grid_gap": null,
            "max_width": null,
            "order": null,
            "_view_module_version": "1.2.0",
            "grid_template_areas": null,
            "object_position": null,
            "object_fit": null,
            "grid_auto_columns": null,
            "margin": null,
            "display": null,
            "left": null
          }
        },
        "f5d3b0f0969d4db6876d0f4c1d35d712": {
          "model_module": "@jupyter-widgets/controls",
          "model_name": "FloatProgressModel",
          "state": {
            "_view_name": "ProgressView",
            "style": "IPY_MODEL_c614a96be5a044788872e455e8a42a8f",
            "_dom_classes": [],
            "description": "100%",
            "_model_name": "FloatProgressModel",
            "bar_style": "success",
            "max": 1,
            "_view_module": "@jupyter-widgets/controls",
            "_model_module_version": "1.5.0",
            "value": 1,
            "_view_count": null,
            "_view_module_version": "1.5.0",
            "orientation": "horizontal",
            "min": 0,
            "description_tooltip": null,
            "_model_module": "@jupyter-widgets/controls",
            "layout": "IPY_MODEL_218dbcae69074a0c8cee2ebe5badc37b"
          }
        },
        "2a2a48be1df142c393e52701b1f5edb4": {
          "model_module": "@jupyter-widgets/controls",
          "model_name": "HTMLModel",
          "state": {
            "_view_name": "HTMLView",
            "style": "IPY_MODEL_d7cf9555c8fe4351865a385798088a56",
            "_dom_classes": [],
            "description": "",
            "_model_name": "HTMLModel",
            "placeholder": "​",
            "_view_module": "@jupyter-widgets/controls",
            "_model_module_version": "1.5.0",
            "value": " 1/1 [00:00&lt;00:00, 25.64it/s]",
            "_view_count": null,
            "_view_module_version": "1.5.0",
            "description_tooltip": null,
            "_model_module": "@jupyter-widgets/controls",
            "layout": "IPY_MODEL_fea47f3a94124a56978267b1175db300"
          }
        },
        "c614a96be5a044788872e455e8a42a8f": {
          "model_module": "@jupyter-widgets/controls",
          "model_name": "ProgressStyleModel",
          "state": {
            "_view_name": "StyleView",
            "_model_name": "ProgressStyleModel",
            "description_width": "initial",
            "_view_module": "@jupyter-widgets/base",
            "_model_module_version": "1.5.0",
            "_view_count": null,
            "_view_module_version": "1.2.0",
            "bar_color": null,
            "_model_module": "@jupyter-widgets/controls"
          }
        },
        "218dbcae69074a0c8cee2ebe5badc37b": {
          "model_module": "@jupyter-widgets/base",
          "model_name": "LayoutModel",
          "state": {
            "_view_name": "LayoutView",
            "grid_template_rows": null,
            "right": null,
            "justify_content": null,
            "_view_module": "@jupyter-widgets/base",
            "overflow": null,
            "_model_module_version": "1.2.0",
            "_view_count": null,
            "flex_flow": null,
            "width": null,
            "min_width": null,
            "border": null,
            "align_items": null,
            "bottom": null,
            "_model_module": "@jupyter-widgets/base",
            "top": null,
            "grid_column": null,
            "overflow_y": null,
            "overflow_x": null,
            "grid_auto_flow": null,
            "grid_area": null,
            "grid_template_columns": null,
            "flex": null,
            "_model_name": "LayoutModel",
            "justify_items": null,
            "grid_row": null,
            "max_height": null,
            "align_content": null,
            "visibility": null,
            "align_self": null,
            "height": null,
            "min_height": null,
            "padding": null,
            "grid_auto_rows": null,
            "grid_gap": null,
            "max_width": null,
            "order": null,
            "_view_module_version": "1.2.0",
            "grid_template_areas": null,
            "object_position": null,
            "object_fit": null,
            "grid_auto_columns": null,
            "margin": null,
            "display": null,
            "left": null
          }
        },
        "d7cf9555c8fe4351865a385798088a56": {
          "model_module": "@jupyter-widgets/controls",
          "model_name": "DescriptionStyleModel",
          "state": {
            "_view_name": "StyleView",
            "_model_name": "DescriptionStyleModel",
            "description_width": "",
            "_view_module": "@jupyter-widgets/base",
            "_model_module_version": "1.5.0",
            "_view_count": null,
            "_view_module_version": "1.2.0",
            "_model_module": "@jupyter-widgets/controls"
          }
        },
        "fea47f3a94124a56978267b1175db300": {
          "model_module": "@jupyter-widgets/base",
          "model_name": "LayoutModel",
          "state": {
            "_view_name": "LayoutView",
            "grid_template_rows": null,
            "right": null,
            "justify_content": null,
            "_view_module": "@jupyter-widgets/base",
            "overflow": null,
            "_model_module_version": "1.2.0",
            "_view_count": null,
            "flex_flow": null,
            "width": null,
            "min_width": null,
            "border": null,
            "align_items": null,
            "bottom": null,
            "_model_module": "@jupyter-widgets/base",
            "top": null,
            "grid_column": null,
            "overflow_y": null,
            "overflow_x": null,
            "grid_auto_flow": null,
            "grid_area": null,
            "grid_template_columns": null,
            "flex": null,
            "_model_name": "LayoutModel",
            "justify_items": null,
            "grid_row": null,
            "max_height": null,
            "align_content": null,
            "visibility": null,
            "align_self": null,
            "height": null,
            "min_height": null,
            "padding": null,
            "grid_auto_rows": null,
            "grid_gap": null,
            "max_width": null,
            "order": null,
            "_view_module_version": "1.2.0",
            "grid_template_areas": null,
            "object_position": null,
            "object_fit": null,
            "grid_auto_columns": null,
            "margin": null,
            "display": null,
            "left": null
          }
        }
      }
    }
  },
  "cells": [
    {
      "cell_type": "markdown",
      "metadata": {
        "id": "dTKqYic0YCCT",
        "colab_type": "text"
      },
      "source": [
        "##1.Imports"
      ]
    },
    {
      "cell_type": "code",
      "metadata": {
        "id": "qF4tM4v6ZEya",
        "colab_type": "code",
        "colab": {}
      },
      "source": [
        "import tensorflow as tf\n",
        "from tensorflow.keras.layers import Input,Embedding,LSTM,Dense,Flatten,Bidirectional,GRU,TimeDistributed,Add,Attention,Concatenate\n",
        "from tensorflow.keras import Model,Sequential\n",
        "from tensorflow.keras.utils import to_categorical\n",
        "from tensorflow.keras.models import load_model\n",
        "from tensorflow.keras.callbacks import EarlyStopping\n",
        "\n",
        "import shutil\n",
        "from datetime import datetime\n",
        "from dateutil import tz\n",
        "import json\n",
        "import math\n",
        "from tqdm.notebook import tqdm\n",
        "from collections import Counter\n",
        "import numpy as np\n",
        "from os.path import exists\n",
        "import matplotlib.pyplot as plt\n"
      ],
      "execution_count": null,
      "outputs": []
    },
    {
      "cell_type": "markdown",
      "metadata": {
        "id": "irSufVqFYHkq",
        "colab_type": "text"
      },
      "source": [
        "##2.Data"
      ]
    },
    {
      "cell_type": "markdown",
      "metadata": {
        "id": "dp5uiGYcYLeh",
        "colab_type": "text"
      },
      "source": [
        ">### a. Data import"
      ]
    },
    {
      "cell_type": "code",
      "metadata": {
        "id": "vxX8-dMtZHFb",
        "colab_type": "code",
        "colab": {
          "base_uri": "https://localhost:8080/",
          "height": 284
        },
        "outputId": "b31178aa-01de-47be-b892-0203113888e8"
      },
      "source": [
        "!wget http://files.srl.inf.ethz.ch/data/js_dataset.tar.gz"
      ],
      "execution_count": null,
      "outputs": [
        {
          "output_type": "stream",
          "text": [
            "--2020-07-17 06:49:51--  http://files.srl.inf.ethz.ch/data/js_dataset.tar.gz\n",
            "Resolving files.srl.inf.ethz.ch (files.srl.inf.ethz.ch)... 129.132.85.35\n",
            "Connecting to files.srl.inf.ethz.ch (files.srl.inf.ethz.ch)|129.132.85.35|:80... connected.\n",
            "HTTP request sent, awaiting response... 301 Moved Permanently\n",
            "Location: https://files.sri.inf.ethz.ch/data/js_dataset.tar.gz [following]\n",
            "--2020-07-17 06:49:52--  https://files.sri.inf.ethz.ch/data/js_dataset.tar.gz\n",
            "Resolving files.sri.inf.ethz.ch (files.sri.inf.ethz.ch)... 129.132.85.35\n",
            "Connecting to files.sri.inf.ethz.ch (files.sri.inf.ethz.ch)|129.132.85.35|:443... connected.\n",
            "HTTP request sent, awaiting response... 200 OK\n",
            "Length: 2632133476 (2.5G) [application/x-gzip]\n",
            "Saving to: ‘js_dataset.tar.gz’\n",
            "\n",
            "js_dataset.tar.gz   100%[===================>]   2.45G  24.6MB/s    in 1m 50s  \n",
            "\n",
            "2020-07-17 06:51:43 (22.8 MB/s) - ‘js_dataset.tar.gz’ saved [2632133476/2632133476]\n",
            "\n"
          ],
          "name": "stdout"
        }
      ]
    },
    {
      "cell_type": "markdown",
      "metadata": {
        "colab_type": "text",
        "id": "Diklu9h4YpEf"
      },
      "source": [
        ">### b. Unpacking"
      ]
    },
    {
      "cell_type": "markdown",
      "metadata": {
        "colab_type": "text",
        "id": "np4sztCsJiwZ"
      },
      "source": [
        ">>#### i. Dataset"
      ]
    },
    {
      "cell_type": "code",
      "metadata": {
        "id": "NP2fNA7-aHd9",
        "colab_type": "code",
        "colab": {
          "base_uri": "https://localhost:8080/",
          "height": 50
        },
        "outputId": "3f412a93-38f4-4f30-9b0a-ecdfa9431397"
      },
      "source": [
        "print(datetime.now(tz=tz.gettz('Asia/Kolkata')))\n",
        "shutil.unpack_archive(\"/content/js_dataset.tar.gz\")\n",
        "print(datetime.now(tz=tz.gettz('Asia/Kolkata')))"
      ],
      "execution_count": null,
      "outputs": [
        {
          "output_type": "stream",
          "text": [
            "2020-07-17 12:21:44.206025+05:30\n",
            "2020-07-17 12:25:56.769602+05:30\n"
          ],
          "name": "stdout"
        }
      ]
    },
    {
      "cell_type": "code",
      "metadata": {
        "id": "yhmtfj-uO4fa",
        "colab_type": "code",
        "colab": {}
      },
      "source": [
        "eval_file_path=\"/content/programs_eval.json\""
      ],
      "execution_count": null,
      "outputs": []
    },
    {
      "cell_type": "markdown",
      "metadata": {
        "colab_type": "text",
        "id": "dba_Iq2fJl5i"
      },
      "source": [
        ">>#### ii. GloVe embeddings and Dictionaries"
      ]
    },
    {
      "cell_type": "code",
      "metadata": {
        "id": "b6-bTgyBJmrd",
        "colab_type": "code",
        "colab": {}
      },
      "source": [
        "shutil.unpack_archive('/content/inputData.zip')"
      ],
      "execution_count": null,
      "outputs": []
    },
    {
      "cell_type": "code",
      "metadata": {
        "id": "d6DWDVZr8Q1G",
        "colab_type": "code",
        "colab": {}
      },
      "source": [
        "NT_dict_path='/content/Non_Terminal_Dictionary.txt'\n",
        "T_dict_path='/content/Terminal_Dictionary.txt'\n",
        "glove_path='/content/glove.6B.50d.txt'"
      ],
      "execution_count": null,
      "outputs": []
    },
    {
      "cell_type": "markdown",
      "metadata": {
        "colab_type": "text",
        "id": "mLNgcx4R-lHC"
      },
      "source": [
        ">>#### ii. Models"
      ]
    },
    {
      "cell_type": "code",
      "metadata": {
        "id": "ayagYmoQ-o8V",
        "colab_type": "code",
        "colab": {}
      },
      "source": [
        "shutil.unpack_archive('/content/models.zip')"
      ],
      "execution_count": null,
      "outputs": []
    },
    {
      "cell_type": "code",
      "metadata": {
        "id": "jAlvtinIf6sS",
        "colab_type": "code",
        "colab": {}
      },
      "source": [
        "nt_emb_train_path=\"/content/nt_emb_train\"\n",
        "model1_path=\"/content/model1\"\n",
        "model2_n_path=\"/content/model2_n\"\n",
        "model2_t_path=\"/content/model2_t\"\n",
        "model3_path=\"/content/model3\""
      ],
      "execution_count": null,
      "outputs": []
    },
    {
      "cell_type": "markdown",
      "metadata": {
        "id": "ojq8eCO-YwxZ",
        "colab_type": "text"
      },
      "source": [
        ">### c. Splitting the JSON training file into smaller files"
      ]
    },
    {
      "cell_type": "markdown",
      "metadata": {
        "id": "VsBCfZ2FG9du",
        "colab_type": "text"
      },
      "source": [
        "The file \"programs_training.json\" contains parsed ASTs in JSON format for the files in programs_training.txt. One program is present per line with a total of 10K(`tot_lines`) programs. We have divided this file into 5(`num_files`) smaller files with each file containing 20 K programs."
      ]
    },
    {
      "cell_type": "code",
      "metadata": {
        "id": "VH9QPDe9Y4Do",
        "colab_type": "code",
        "colab": {}
      },
      "source": [
        "tot_lines=100000\n",
        "num_files=5"
      ],
      "execution_count": null,
      "outputs": []
    },
    {
      "cell_type": "code",
      "metadata": {
        "id": "iFUS50jxejQR",
        "colab_type": "code",
        "colab": {
          "base_uri": "https://localhost:8080/",
          "height": 66,
          "referenced_widgets": [
            "ceabc6a39e1643b683980335bdfe44da",
            "8fb78626a4334b1b8b5510e666c61d85",
            "1a3b5b5cd2c242d58c4fed047a9ecfcd",
            "ae7505ec80c44bfcbb29bc51b7a77118",
            "1d81d8e689954edbb29d7087adbd13b7",
            "963b508482984a008efb87d056cc7ddf",
            "f24b351c491a4987983ec99c7f052bf9",
            "4f6fb387ba484643a79d19b4ac584aea"
          ]
        },
        "outputId": "ac06c893-bfee-4feb-aa28-59c10f64634f"
      },
      "source": [
        "org_train_file= open(\"/content/programs_training.json\",encoding=\"latin-1\")\n",
        "org_txt_file=open(\"/content/programs_training.txt\")\n",
        "\n",
        "for i in tqdm(range(num_files)):\n",
        "  file_id=str(i+1)\n",
        "  \n",
        "  write_train_file=open(\"/content/programs_training_\"+file_id+\".json\",'a')\n",
        "  write_txt_file=open(\"/content/programs_training_\"+file_id+\".txt\",'a')\n",
        "    \n",
        "  for _ in range(int(tot_lines/num_files)):\n",
        "    write_train_file.write(org_train_file.readline())\n",
        "    write_txt_file.write(org_txt_file.readline())\n",
        "\n",
        "  write_train_file.close()\n",
        "  write_txt_file.close()\n",
        "  # if i == 0: \n",
        "  #   break\n",
        "\n",
        "org_train_file.close()\n",
        "org_txt_file.close()"
      ],
      "execution_count": null,
      "outputs": [
        {
          "output_type": "display_data",
          "data": {
            "application/vnd.jupyter.widget-view+json": {
              "model_id": "ceabc6a39e1643b683980335bdfe44da",
              "version_minor": 0,
              "version_major": 2
            },
            "text/plain": [
              "HBox(children=(FloatProgress(value=0.0, max=5.0), HTML(value='')))"
            ]
          },
          "metadata": {
            "tags": []
          }
        },
        {
          "output_type": "stream",
          "text": [
            "\n"
          ],
          "name": "stdout"
        }
      ]
    },
    {
      "cell_type": "markdown",
      "metadata": {
        "colab_type": "text",
        "id": "DNB6jAZ6aRO0"
      },
      "source": [
        ">### e. Creating a dataset of serialized truncated ASTs"
      ]
    },
    {
      "cell_type": "code",
      "metadata": {
        "id": "bKp34aftbSef",
        "colab_type": "code",
        "colab": {}
      },
      "source": [
        "node_count=50 #The number of nodes considered per AST \n",
        "embed_dim=50 #The embedding dimension of each Terminal/Non-Terminal\n",
        "t_occ_thres=5e-5 #The minimum frequency of occurence that makes a terminal eligible to be included in the terminal list. \n",
        "unknown_t=\"unknown\" #All the terminals ineligible to be a part of the terminal list are replaced by this token."
      ],
      "execution_count": null,
      "outputs": []
    },
    {
      "cell_type": "code",
      "metadata": {
        "id": "vorUOxAcZEzD",
        "colab_type": "code",
        "colab": {}
      },
      "source": [
        "#Each node in the serialized truncated ASTs (LCRS representation) is represented as an object of class Node.\n",
        "class Node:\n",
        "    def __init__(self,key,left=None,children=None): \n",
        "        self.left = left\n",
        "        self.right = None\n",
        "        self.val = key + \":\"\n",
        "        self.children = children"
      ],
      "execution_count": null,
      "outputs": []
    },
    {
      "cell_type": "code",
      "metadata": {
        "id": "wwhzmSIRZEzQ",
        "colab_type": "code",
        "colab": {}
      },
      "source": [
        "#This function converts a AST to LCRS (binary) representation.\n",
        "def json2LCRS(json_tree): \n",
        "  #create a list of all NT nodes\n",
        "\n",
        "  node_list=list()\n",
        "  for node_dict in json_tree[:-1]:\n",
        "      if(\"children\" in node_dict.keys()):\n",
        "        node_list.append(Node(node_dict[\"type\"],children=node_dict[\"children\"]))\n",
        "      elif(\"value\" in node_dict.keys()):\n",
        "        node_list.append(Node(node_dict[\"type\"],left=node_dict[\"value\"]))\n",
        "      else:\n",
        "        node_list.append(Node(node_dict[\"type\"],left=node_dict[\"type\"]+\".value\"))\n",
        "  \n",
        "  #create a LCRS tree with root as \"root\"\n",
        "\n",
        "  q=list()\n",
        "  root=node_list[0]\n",
        "  q.append(root)\n",
        "  while(len(q)>0):\n",
        "      node=q.pop(0)\n",
        "      child_list=[node_list[id] for id in node.children]\n",
        "      node.left=child_list[0]\n",
        "      for i in range(len(child_list)-1):\n",
        "          child_list[i].right=child_list[i+1]\n",
        "      for child in child_list:\n",
        "          if(child.children!=None):\n",
        "              q.append(child)\n",
        "\n",
        "  #Update NT nodes with structural information\n",
        "  for node in node_list:\n",
        "      lc=node.left\n",
        "      rs=node.right\n",
        "\n",
        "      if(type(lc)==str):\n",
        "          node.val+=\"T\"\n",
        "      else:\n",
        "          node.val+=\"N\"\n",
        "\n",
        "      if(rs==None):\n",
        "          node.val+=\"A\"\n",
        "      else:\n",
        "          node.val+=\"P\"\n",
        "    \n",
        "  return root"
      ],
      "execution_count": null,
      "outputs": []
    },
    {
      "cell_type": "code",
      "metadata": {
        "id": "JUoCXxHghW7z",
        "colab_type": "code",
        "colab": {}
      },
      "source": [
        "#This function creats a sequetial (pre order) representation of the tree.\n",
        "def preorder(node):\n",
        "\n",
        "  stack=list()\n",
        "  pre_lst=list()\n",
        "  stack.append(node)\n",
        "  while(len(stack)>0):\n",
        "\n",
        "    if(len(pre_lst)>=node_count):\n",
        "      break\n",
        "\n",
        "    node=stack.pop()\n",
        "      \n",
        "    lc=node.left\n",
        "    rs=node.right\n",
        "    \n",
        "    lval=\"\"\n",
        "    rval=\"\"\n",
        "    \n",
        "    if(type(lc)==str):\n",
        "        lval=lc\n",
        "    else:\n",
        "        lval=lc.val\n",
        "        \n",
        "    if(rs==None):\n",
        "        rval=\"NULL\"\n",
        "    else:\n",
        "        rval=rs.val\n",
        "    \n",
        "    pre_lst.append([node.val,lval,rval])\n",
        "\n",
        "    if(type(node.left)==Node):\n",
        "      stack.append(node.left)\n",
        "\n",
        "    if(type(node.right)==Node):\n",
        "      stack.append(node.right)\n",
        "    \n",
        "  return pre_lst"
      ],
      "execution_count": null,
      "outputs": []
    },
    {
      "cell_type": "markdown",
      "metadata": {
        "id": "fAS-bOOfOC2I",
        "colab_type": "text"
      },
      "source": [
        "Data is a three dimensional dataset. Each row represents a particular program. The row is made up of a list of string triplets. The triplets consist of: \n",
        "\n",
        "1.   The parent Non Terminal\n",
        "2.   Left child (Can be a Non Terminal or a Terminal)\n",
        "3.   Right sibling (If present)\n",
        "\n",
        "\n",
        "\n"
      ]
    },
    {
      "cell_type": "code",
      "metadata": {
        "id": "ueucOEew-LnT",
        "colab_type": "code",
        "colab": {}
      },
      "source": [
        "def jsonstrs_to_data(json_strs,node_count = 50 ):\n",
        "  data=np.empty(shape=(len(json_strs),node_count,3),dtype=object)\n",
        "  i=0\n",
        "  for json_str in json_strs:\n",
        "    lcrs_root=json2LCRS(json.loads(json_str))\n",
        "    pre_lst=preorder(lcrs_root)\n",
        "    if(len(pre_lst)>=node_count):\n",
        "      for j in range(node_count):\n",
        "        data[i,j,0]=pre_lst[j][0]\n",
        "        data[i,j,1]=pre_lst[j][1]\n",
        "        data[i,j,2]=pre_lst[j][2]\n",
        "      i+=1\n",
        "  data=data[:i]\n",
        "  data.shape\n",
        "  return data"
      ],
      "execution_count": null,
      "outputs": []
    },
    {
      "cell_type": "markdown",
      "metadata": {
        "colab_type": "text",
        "id": "ItIa2m4ucCN0"
      },
      "source": [
        ">### e. Numeric tokenisation of the dataset"
      ]
    },
    {
      "cell_type": "code",
      "metadata": {
        "id": "Lcpc6kqwPLUv",
        "colab_type": "code",
        "colab": {}
      },
      "source": [
        "#This function creates a list of Non Terminals and a list of Terminals from the data\n",
        "def create_lists(data):\n",
        "  nt_list=list()\n",
        "  t_list=list()\n",
        "\n",
        "  for i in range(data.shape[0]):\n",
        "    for j in range(node_count):\n",
        "      \n",
        "      tag_info=data[i][j][0][-2:]\n",
        "      nt_list.append(data[i][j][0])\n",
        "      \n",
        "      if(tag_info==\"NA\"):\n",
        "        nt_list.append(data[i][j][1])\n",
        "      elif(tag_info==\"NP\"):\n",
        "        nt_list.append(data[i][j][1])\n",
        "        nt_list.append(data[i][j][2])\n",
        "      elif(tag_info==\"TA\"):\n",
        "        t_list.append(data[i][j][1])\n",
        "      elif(tag_info==\"TP\"):\n",
        "        t_list.append(data[i][j][1])\n",
        "        nt_list.append(data[i][j][2])\n",
        "\n",
        "  #NT tokenisation\n",
        "  return list(set(nt_list)) , list(set(t_list))\n",
        " "
      ],
      "execution_count": null,
      "outputs": []
    },
    {
      "cell_type": "code",
      "metadata": {
        "id": "c5tgfhqlysrk",
        "colab_type": "code",
        "colab": {}
      },
      "source": [
        "# load the GloVe vectors in a dictionary:\n",
        "\n",
        "embeddings_index = {}\n",
        "f = open('/content/glove.6B.'+str(embed_dim)+'d.txt','r',encoding='utf-8')\n",
        "for line in f:\n",
        "    values = line.split(' ')\n",
        "    word = values[0]\n",
        "    coefs = np.asarray([float(val) for val in values[1:]])\n",
        "    embeddings_index[word] = coefs\n",
        "f.close()"
      ],
      "execution_count": null,
      "outputs": []
    },
    {
      "cell_type": "code",
      "metadata": {
        "id": "JHyH5PdZKqmi",
        "colab_type": "code",
        "colab": {
          "base_uri": "https://localhost:8080/",
          "height": 33
        },
        "outputId": "5e35f771-418a-4638-dafe-f8d72b8a6130"
      },
      "source": [
        "if(exists(NT_dict_path) and exists(T_dict_path)):\n",
        "\n",
        "  print(\"Dictionary found. Loading it.\")\n",
        "  #Loading the dictionary\n",
        "\n",
        "  unique_nt_dict = {}\n",
        "  f = open(NT_dict_path)\n",
        "  for line in f:\n",
        "      values = line.split(' ')\n",
        "      word = values[0]\n",
        "      coefs = int(values[1][:-1])\n",
        "      unique_nt_dict[word] = coefs\n",
        "  f.close()\n",
        "\n",
        "  unique_t_dict = {}\n",
        "  f = open(T_dict_path)\n",
        "  for line in f:\n",
        "      values = line.split(' ')\n",
        "      word = values[0]\n",
        "      coefs = int(values[1][:-1])\n",
        "      unique_t_dict[word] = coefs\n",
        "  f.close()\n",
        "\n",
        "  nt_list_length=len(unique_nt_dict.keys())\n",
        "  t_list_length=len(unique_t_dict.keys())\n",
        "\n",
        "else:\n",
        "  nt_list = []\n",
        "  t_list = []\n",
        "\n",
        "  print(\"Dictionary not found. Creating it.\")\n",
        "  #Extracting unique non terminals and terminals\n",
        "  for i in tqdm(range(1,6)):  \n",
        "    with open(\"/content/programs_training_\"+ str(i) + \".json\",encoding=\"latin-1\") as train_file:\n",
        "      json_strs=train_file.read().split('\\n')[:-1]\n",
        "      data = jsonstrs_to_data(json_strs)\n",
        "      temp_nt_list , temp_t_list= create_lists(data)\n",
        "\n",
        "      nt_list += temp_nt_list\n",
        "      nt_list = list(set(nt_list))\n",
        "      t_list += temp_t_list\n",
        "      t_list = list(set(t_list))\n",
        "  \n",
        "  #removing terminals not in GloVe embedding\n",
        "  glove_key_list=list(embeddings_index.keys())\n",
        "  t_list_red=list()\n",
        "  for t in tqdm(global_t_list):\n",
        "    if t in glove_key_list:\n",
        "      t_list_red.append(t)\n",
        "\n",
        "\n",
        "  #Creating the dictionaries\n",
        "  nt_list_length=len(nt_list)\n",
        "\n",
        "  dict_values_nt=list(range(nt_list_length))\n",
        "\n",
        "  unique_nt_dict={key:value for key,value in zip(nt_list,dict_values_nt)}\n",
        "  unique_nt_dict[\"PAD\"]=0\n",
        "\n",
        "  t_list_length=len(t_list_red)+1\n",
        "\n",
        "  dict_values_t=list(range(1,t_list_length))\n",
        "\n",
        "  unique_t_dict={key:value for key,value in zip(t_list_red,dict_values_t)}\n",
        "\n",
        "  #Saving the dictionaries\n",
        "  nt_file=open(nt_dict_path,'w')\n",
        "  for k,v in unique_nt_dict.items():\n",
        "    nt_file.write(k+\" \"+str(v)+'\\n')\n",
        "  nt_file.close()\n",
        "\n",
        "  t_file=open(t_dict_path,'w')\n",
        "  for k,v in unique_t_dict.items():\n",
        "    t_file.write(k+\" \"+str(v)+'\\n')\n",
        "  t_file.close()"
      ],
      "execution_count": null,
      "outputs": [
        {
          "output_type": "stream",
          "text": [
            "Dictionary found. Loading it.\n"
          ],
          "name": "stdout"
        }
      ]
    },
    {
      "cell_type": "code",
      "metadata": {
        "id": "M5PrpgFhcdez",
        "colab_type": "code",
        "colab": {}
      },
      "source": [
        "#This functions maps each element of the data into there respective numeric tokens\n",
        "def create_token(data):\n",
        "  unk=0\n",
        "  norm=0\n",
        "  data_tkns=np.empty_like(data)\n",
        "\n",
        "  for i in range(data.shape[0]):\n",
        "    for j in range(node_count):\n",
        "      tag_info=data[i][j][0][-2:]\n",
        "      data_tkns[i,j,0]=unique_nt_dict[data[i,j,0]]\n",
        "      \n",
        "      if(tag_info==\"NA\"):\n",
        "        data_tkns[i,j,1]=unique_nt_dict[data[i,j,1]]\n",
        "        data_tkns[i,j,2]=unique_nt_dict[\"PAD\"]\n",
        "      elif(tag_info==\"NP\"):\n",
        "        data_tkns[i,j,1]=unique_nt_dict[data[i,j,1]]\n",
        "        data_tkns[i,j,2]=unique_nt_dict[data[i,j,2]]\n",
        "      elif(tag_info==\"TA\"):\n",
        "        if(data[i,j,1] in unique_t_dict.keys()):\n",
        "          norm+=1\n",
        "          data_tkns[i,j,1]=unique_t_dict[data[i,j,1]]\n",
        "        else:\n",
        "          unk+=1\n",
        "          data_tkns[i,j,1]=unique_t_dict[unknown_t]\n",
        "        data_tkns[i,j,2]=unique_nt_dict[\"PAD\"]\n",
        "      elif(tag_info==\"TP\"):\n",
        "        if(data[i,j,1] in unique_t_dict.keys()):\n",
        "          norm+=1\n",
        "          data_tkns[i,j,1]=unique_t_dict[data[i,j,1]]\n",
        "        else:\n",
        "          unk+=1\n",
        "          data_tkns[i,j,1]=unique_t_dict[unknown_t]\n",
        "        data_tkns[i,j,2]=unique_nt_dict[data[i,j,2]]\n",
        "      \n",
        "  return data_tkns"
      ],
      "execution_count": null,
      "outputs": []
    },
    {
      "cell_type": "markdown",
      "metadata": {
        "colab_type": "text",
        "id": "cvsFALHVL1-K"
      },
      "source": [
        "##3.Model"
      ]
    },
    {
      "cell_type": "markdown",
      "metadata": {
        "colab_type": "text",
        "id": "ENrllispMEgD"
      },
      "source": [
        ">### a. Embeddings"
      ]
    },
    {
      "cell_type": "code",
      "metadata": {
        "id": "RK4pGMfy_AWr",
        "colab_type": "code",
        "colab": {}
      },
      "source": [
        "es=EarlyStopping(monitor=\"val_loss\",mode=\"min\",patience=5,restore_best_weights=True) #Early stopping criteria during training"
      ],
      "execution_count": null,
      "outputs": []
    },
    {
      "cell_type": "markdown",
      "metadata": {
        "colab_type": "text",
        "id": "lZCcoNPaMEgG"
      },
      "source": [
        ">>#### i. Non terminal embeddings training model"
      ]
    },
    {
      "cell_type": "code",
      "metadata": {
        "id": "Rid5ZV3GF_j2",
        "colab_type": "code",
        "colab": {}
      },
      "source": [
        "#Model for creating the non terminal embedding vector\n",
        "def create_nt_emb_train():\n",
        "  nt_input = Input(shape=(node_count-1,),name=\"nt_emb_train_input\")\n",
        "\n",
        "  nt_embedding=Embedding(input_dim=nt_list_length,output_dim=embed_dim,name=\"nt_emb\")\n",
        "  nt_embedding_out=nt_embedding(nt_input)\n",
        "\n",
        "  bd_lstm =Bidirectional(LSTM(100),name=\"nt_emb_train_bd_lstm\")\n",
        "  bd_lstm_out=bd_lstm(nt_embedding_out)\n",
        "\n",
        "  dense=Dense(nt_list_length,activation=\"softmax\",name=\"nt_emb_train_dense\")\n",
        "  dense_out=dense(bd_lstm_out)\n",
        "\n",
        "  nt_emb_train=Model(nt_input,dense_out,name=\"nt_emb_train\")\n",
        "\n",
        "  nt_emb_train.compile(\n",
        "    optimizer=\"Adam\", \n",
        "    loss='categorical_crossentropy', \n",
        "    metrics=['accuracy']\n",
        "    )\n",
        "  \n",
        "  return nt_emb_train"
      ],
      "execution_count": null,
      "outputs": []
    },
    {
      "cell_type": "code",
      "metadata": {
        "id": "YvNMScPSPSKG",
        "colab_type": "code",
        "colab": {
          "base_uri": "https://localhost:8080/",
          "height": 301
        },
        "outputId": "d41c95c6-58fe-4dc6-abcc-cfd060efc51c"
      },
      "source": [
        "if(exists(nt_emb_train_path)):\n",
        "\n",
        "  print(\"Model found. Loading it.\")\n",
        "  nt_emb_train=load_model(nt_emb_train_path)\n",
        "  nt_emb_train.summary()\n",
        "  \n",
        "else:\n",
        "\n",
        "  print(\"Model not found. Creating it.\")\n",
        "  #Defining model structure\n",
        "  \n",
        "  nt_emb_train=create_nt_emb_train()\n",
        "  nt_emb_train.summary()\n",
        "  \n",
        "  \n",
        "  #Training file by file\n",
        "\n",
        "  loss_list=list()\n",
        "  accuracy_list=list()\n",
        "  val_loss_list=list()\n",
        "  val_accuracy_list=list()\n",
        "\n",
        "  for i in range(num_files):\n",
        "\n",
        "    file_name=\"/content/programs_training_\"+ str(i+1) + \".json\" \n",
        "    print (\"Training model with file: \"+file_name) \n",
        "    with open(file_name,encoding=\"latin-1\") as train_file:\n",
        "      json_strs=train_file.read().split('\\n')[:-1]\n",
        "      data = jsonstrs_to_data(json_strs)\n",
        "      data_tkns = create_token(data)\n",
        "\n",
        "    X_ntemb=data_tkns[:,:node_count-1,0]\n",
        "    y_ntemb=data_tkns[:,node_count-1,0]\n",
        "    del data_tkns\n",
        "    del data\n",
        "    y_ntemb_cat=to_categorical(y_ntemb,num_classes=nt_list_length)\n",
        "    nt_emb_train_history = nt_emb_train.fit(X_ntemb.astype(int),y_ntemb_cat.astype(float),epochs=32,validation_split=0.2,callbacks=[es])\n",
        "\n",
        "    #Creating loss and accuracy list\n",
        "    loss_list+=nt_emb_train_history.history[\"loss\"]\n",
        "    accuracy_list+=nt_emb_train_history.history[\"accuracy\"]\n",
        "    val_loss_list+=nt_emb_train_history.history[\"val_loss\"]\n",
        "    val_accuracy_list+=nt_emb_train_history.history[\"val_accuracy\"]\n",
        "    # if i == 1: \n",
        "    #   break\n",
        "\n",
        "  # Saving the model\n",
        "  nt_emb_train.save(nt_emb_train_path)\n",
        "\n",
        "  #Displaying loss graph\n",
        "  plt.plot(loss_list)\n",
        "  plt.plot(val_loss_list)\n",
        "  plt.title('nt_emb_train loss')\n",
        "  plt.ylabel('Loss')\n",
        "  plt.xlabel('Epoch')\n",
        "  plt.legend(['Train', 'Val'], loc='upper right')\n",
        "  plt.show()\n",
        "  plt.savefig(\"model_loss_nt_emb_train.png\")\n",
        "\n",
        "  #Displaying accuracy graph\n",
        "  plt.plot(accuracy_list)\n",
        "  plt.plot(val_accuracy_list)\n",
        "  plt.title('nt_emb_train accuracy')\n",
        "  plt.ylabel('Accuracy')\n",
        "  plt.xlabel('Epoch')\n",
        "  plt.legend(['Train', 'Val'], loc='lower right')\n",
        "  plt.show()\n",
        "  plt.savefig(\"model_accuracy_nt_emb_train.png\")\n"
      ],
      "execution_count": null,
      "outputs": [
        {
          "output_type": "stream",
          "text": [
            "Model found. Loading it.\n",
            "Model: \"nt_emb_train\"\n",
            "_________________________________________________________________\n",
            "Layer (type)                 Output Shape              Param #   \n",
            "=================================================================\n",
            "nt_emb_train_input (InputLay [(None, 49)]              0         \n",
            "_________________________________________________________________\n",
            "nt_emb (Embedding)           (None, 49, 50)            4850      \n",
            "_________________________________________________________________\n",
            "nt_emb_train_bd_lstm (Bidire (None, 200)               120800    \n",
            "_________________________________________________________________\n",
            "nt_emb_train_dense (Dense)   (None, 97)                19497     \n",
            "=================================================================\n",
            "Total params: 145,147\n",
            "Trainable params: 145,147\n",
            "Non-trainable params: 0\n",
            "_________________________________________________________________\n"
          ],
          "name": "stdout"
        }
      ]
    },
    {
      "cell_type": "markdown",
      "metadata": {
        "colab_type": "text",
        "id": "5CEN1p111quD"
      },
      "source": [
        ">>#### ii. Non terminal embeddings prediction model"
      ]
    },
    {
      "cell_type": "code",
      "metadata": {
        "id": "JuuU4loQT4X5",
        "colab_type": "code",
        "colab": {
          "base_uri": "https://localhost:8080/",
          "height": 33
        },
        "outputId": "75819c2d-84f9-40cd-c756-0d44b09f8342"
      },
      "source": [
        "#The following code creates the embedding vectors for each non terminal using the nt_emb_train model\n",
        "nt_emb_predict=Model(nt_emb_train.input,nt_emb_train.get_layer(name=\"nt_emb\").output)\n",
        "num_rows=int(math.ceil(nt_list_length/(node_count-1)))\n",
        "nt_ind=np.array(list(range(num_rows*(node_count-1)))).astype(float)\n",
        "nt_ind[nt_ind>=nt_list_length]=0.\n",
        "nt_ind=nt_ind.reshape((num_rows,(node_count-1)))\n",
        "non_term_embeddings_list=nt_emb_predict.predict(nt_ind)\n",
        "non_term_embeddings=np.concatenate(non_term_embeddings_list)[:nt_list_length]\n",
        "non_term_embeddings.shape"
      ],
      "execution_count": null,
      "outputs": [
        {
          "output_type": "execute_result",
          "data": {
            "text/plain": [
              "(97, 50)"
            ]
          },
          "metadata": {
            "tags": []
          },
          "execution_count": 81
        }
      ]
    },
    {
      "cell_type": "markdown",
      "metadata": {
        "colab_type": "text",
        "id": "W16QvwG8D0tc"
      },
      "source": [
        ">### b. Non Terminal and Terminal model training"
      ]
    },
    {
      "cell_type": "markdown",
      "metadata": {
        "id": "AmwOxxepB27c",
        "colab_type": "text"
      },
      "source": [
        "We now define 4 new models.\n",
        "\n",
        "\n",
        "1.   `model1` is used to predict the parent Non terminal (first element of the triplet).\n",
        "2.  `model2_n` and `model2_t` is used to predict the left child (second element of the triplet).\n",
        ">*   `model2_n` is used for scenarios where the second child is a Non Terminal.\n",
        ">*   `model2_t` is used for scenarios where the second child is a Terminal.\n",
        "\n",
        "3. `model3` is used to predict the right sibling (third element of the triplet).\n",
        "\n"
      ]
    },
    {
      "cell_type": "code",
      "metadata": {
        "id": "2ztiCAdEGfsd",
        "colab_type": "code",
        "colab": {}
      },
      "source": [
        "def create_model(model_name,input_dim,output_dim):\n",
        "  model_input = Input(shape=(input_dim,embed_dim),name=model_name+\"_input\")\n",
        "\n",
        "  lstm =LSTM(100,return_state=True,name=model_name+\"_lstm\")\n",
        "  lstm_out,state_h,state_c=lstm(model_input)\n",
        "\n",
        "  att=Attention(name=model_name+\"_attention\")\n",
        "  att_out=att([lstm_out,state_h])\n",
        "\n",
        "  add=Add(name=model_name+\"_add\")\n",
        "  add_out=add([lstm_out,att_out])\n",
        "\n",
        "  dense=Dense(output_dim,activation=\"softmax\",name=model_name+\"_dense\")\n",
        "  dense_out=dense(add_out)\n",
        "\n",
        "  model=Model(model_input,dense_out,name=model_name)\n",
        "\n",
        "  model.compile(\n",
        "    optimizer=\"Adam\", \n",
        "    loss='categorical_crossentropy', \n",
        "    metrics=['accuracy']\n",
        "    )\n",
        "  \n",
        "  return model"
      ],
      "execution_count": null,
      "outputs": []
    },
    {
      "cell_type": "code",
      "metadata": {
        "id": "Dj7Vf-Zr-3ia",
        "colab_type": "code",
        "colab": {}
      },
      "source": [
        "#The following function sums up the embeddings of the triplets into a single embedding vector for each triplet\n",
        "#This embedding vector is used for training model 1.\n",
        "def generate_combined_embeddings(data):\n",
        "  data_emb=np.empty((data.shape[0],data.shape[1],embed_dim))\n",
        "\n",
        "  p=0\n",
        "  q=0\n",
        "\n",
        "  for i in range(data.shape[0]):\n",
        "    for j in range(data.shape[1]):\n",
        "      \n",
        "      tag_info=data[i][j][0][-2:]\n",
        "      emb_1=non_term_embeddings[unique_nt_dict[data[i,j,0]]]\n",
        "      \n",
        "      if(tag_info==\"NA\"):\n",
        "        emb_2=non_term_embeddings[unique_nt_dict[data[i,j,1]]]\n",
        "        emb_3=np.zeros_like(emb_1)\n",
        "      elif(tag_info==\"NP\"):\n",
        "        emb_2=non_term_embeddings[unique_nt_dict[data[i,j,1]]]\n",
        "        emb_3=non_term_embeddings[unique_nt_dict[data[i,j,2]]]\n",
        "      elif(tag_info==\"TA\"):\n",
        "        if(data[i,j,1] in unique_t_dict.keys()):\n",
        "          emb_2=embeddings_index[data[i,j,1]]\n",
        "          p+=1\n",
        "        else:\n",
        "          emb_2=embeddings_index[unknown_t]\n",
        "          q+=1\n",
        "        emb_3=np.zeros_like(emb_1)\n",
        "      elif(tag_info==\"TP\"):\n",
        "        if(data[i,j,1] in unique_t_dict.keys()):\n",
        "          emb_2=embeddings_index[data[i,j,1]]\n",
        "          p+=1\n",
        "        else:\n",
        "          emb_2=embeddings_index[unknown_t]\n",
        "          q+=1\n",
        "        emb_3=non_term_embeddings[unique_nt_dict[data[i,j,2]]]\n",
        "\n",
        "      data_emb[i,j,:]=emb_1+emb_2+emb_3\n",
        "  return data_emb"
      ],
      "execution_count": null,
      "outputs": []
    },
    {
      "cell_type": "code",
      "metadata": {
        "id": "v_ayqsDik2Iq",
        "colab_type": "code",
        "colab": {}
      },
      "source": [
        "#The following function extracts the data from data_emb to creating training data for each of the model.\n",
        "def create23_data(data):\n",
        "  X_model2_n=np.empty((data.shape[0],node_count,embed_dim))\n",
        "  X_model2_t=np.empty_like(X_model2_n)\n",
        "  X_model3=np.empty_like(X_model2_n)\n",
        "\n",
        "  y_model2_n=list()\n",
        "  y_model2_t=list()\n",
        "  y_model3=list()\n",
        "\n",
        "  nk2=0\n",
        "  tk2=0\n",
        "  nk3=0\n",
        "  for j in tqdm(range(data.shape[0])):\n",
        "\n",
        "      parent=data[j,node_count-1,0]\n",
        "      lc=data[j,node_count-1,1]\n",
        "      rs=data[j,node_count-1,2]\n",
        "\n",
        "      row=np.empty((1,node_count,embed_dim))\n",
        "      row[:,:node_count-1,:]=X_model1[j]\n",
        "      row[:,node_count-1,:]=non_term_embeddings[unique_nt_dict[parent]]\n",
        "      tag=parent[-2:]\n",
        "      \n",
        "      if(tag==\"NA\"):\n",
        "        X_model2_n[nk2]=row\n",
        "        nk2+=1\n",
        "        if(lc in unique_nt_dict.keys()):\n",
        "          y_model2_n.append(unique_nt_dict[lc])\n",
        "        else:\n",
        "          y_model2_n.append(unique_nt_dict[list(unique_nt_dict.keys())[0]])\n",
        "\n",
        "      elif(tag==\"NP\"):\n",
        "        X_model2_n[nk2]=row\n",
        "        nk2+=1\n",
        "        y_model2_n.append(unique_nt_dict[lc])\n",
        "\n",
        "        if(rs!=\"NULL\"):\n",
        "          row[:,node_count-1,:]+=non_term_embeddings[unique_nt_dict[lc]]\n",
        "          X_model3[nk3]=row\n",
        "          nk3+=1\n",
        "          y_model3.append(unique_nt_dict[rs])\n",
        "\n",
        "      elif(tag==\"TA\"):\n",
        "        \n",
        "        X_model2_t[tk2]=row\n",
        "        tk2+=1\n",
        "        if(lc not in unique_t_dict.keys()):\n",
        "          lc=unknown_t  \n",
        "        y_model2_t.append(unique_t_dict[lc])\n",
        "        \n",
        "      elif(tag==\"TP\"):\n",
        "        \n",
        "        X_model2_t[tk2]=row\n",
        "        tk2+=1\n",
        "        if(lc not in unique_t_dict.keys()):\n",
        "          lc=unknown_t  \n",
        "        y_model2_t.append(unique_t_dict[lc])\n",
        "\n",
        "        if(rs!=\"NULL\"):\n",
        "          row[:,node_count-1,:]+=embeddings_index[lc]\n",
        "          X_model3[nk3]=row\n",
        "          nk3+=1\n",
        "          y_model3.append(unique_nt_dict[rs])\n",
        "\n",
        "  X_model2_n=X_model2_n[:nk2]\n",
        "  X_model2_t=X_model2_n[:tk2]\n",
        "  X_model3=X_model3[:nk3]\n",
        "\n",
        "  y_model2_n=np.array(y_model2_n)\n",
        "  y_model2_t=np.array(y_model2_t)\n",
        "  y_model3=np.array(y_model3)\n",
        "\n",
        "  y_model2_n_cat=to_categorical(y_model2_n,num_classes=nt_list_length)\n",
        "  y_model2_t_cat=to_categorical(y_model2_t,num_classes=t_list_length)\n",
        "  y_model3_cat=to_categorical(y_model3,num_classes=nt_list_length)\n",
        "\n",
        "  return (X_model2_n,y_model2_n_cat,X_model2_t,y_model2_t_cat,X_model3,y_model3_cat)"
      ],
      "execution_count": null,
      "outputs": []
    },
    {
      "cell_type": "markdown",
      "metadata": {
        "id": "KgxHOu5mES5v",
        "colab_type": "text"
      },
      "source": [
        "The following functions are used to record the statistics generated during the model training."
      ]
    },
    {
      "cell_type": "code",
      "metadata": {
        "id": "rSrryzqWnFze",
        "colab_type": "code",
        "colab": {}
      },
      "source": [
        "def save_model_history(history, loss_list , accuracy_list, val_loss_list, val_accuracy_list): \n",
        "  loss_list+=history.history[\"loss\"]\n",
        "  accuracy_list+=history.history[\"accuracy\"]\n",
        "  val_loss_list+=history.history[\"val_loss\"]\n",
        "  val_accuracy_list+=history.history[\"val_accuracy\"]\n",
        "  return loss_list , accuracy_list, val_loss_list, val_accuracy_list"
      ],
      "execution_count": null,
      "outputs": []
    },
    {
      "cell_type": "code",
      "metadata": {
        "id": "W4-PTjyctkPi",
        "colab_type": "code",
        "colab": {}
      },
      "source": [
        "loss_list1=list()\n",
        "accuracy_list1=list()\n",
        "val_loss_list1=list()\n",
        "val_accuracy1=list()\n",
        "\n",
        "loss_list2=list()\n",
        "accuracy_list2=list()\n",
        "val_loss_list2=list()\n",
        "val_accuracy2=list()\n",
        "\n",
        "\n",
        "loss_list3=list()\n",
        "accuracy_list3=list()\n",
        "val_loss_list3=list()\n",
        "val_accuracy3=list()\n",
        "\n",
        "\n",
        "loss_list4=list()\n",
        "accuracy_list4=list()\n",
        "val_loss_list4=list()\n",
        "val_accuracy4=list()"
      ],
      "execution_count": null,
      "outputs": []
    },
    {
      "cell_type": "code",
      "metadata": {
        "id": "8OECBZIcpKkf",
        "colab_type": "code",
        "colab": {}
      },
      "source": [
        " def display_loss_graph(model, loss_list , accuracy_list, val_loss_list, val_accuracy_list ):\n",
        "    plt.plot(loss_list)\n",
        "    plt.plot(val_loss_list)\n",
        "    plt.title('nt_emb_train loss')\n",
        "    plt.ylabel('Loss')\n",
        "    plt.xlabel('Epoch')\n",
        "    plt.legend(['Train', 'Val'], loc='upper right')\n",
        "    plt.show()\n",
        "    plt.savefig(model + \"_loss.png\")\n",
        "\n",
        "    #Displaying accuracy graph\n",
        "    plt.plot(accuracy_list)\n",
        "    plt.plot(val_accuracy_list)\n",
        "    plt.title('nt_emb_train accuracy')\n",
        "    plt.ylabel('Accuracy')\n",
        "    plt.xlabel('Epoch')\n",
        "    plt.legend(['Train', 'Val'], loc='lower right')\n",
        "    plt.show()\n",
        "    plt.savefig(model + \"_accuracy.png\")"
      ],
      "execution_count": null,
      "outputs": []
    },
    {
      "cell_type": "code",
      "metadata": {
        "id": "kyJGialEn4oD",
        "colab_type": "code",
        "colab": {
          "base_uri": "https://localhost:8080/",
          "height": 33
        },
        "outputId": "38123375-be8c-4d46-c278-212f244b8b86"
      },
      "source": [
        "if(exists(model1_path) and exists(model2_n_path) and exists(model2_t_path) and exists(model3_path)):\n",
        " \n",
        "  print(\"Models found. Loading them.\")\n",
        "  model1=load_model(model1_path)\n",
        "  model2_n=load_model(model2_n_path)\n",
        "  model2_t=load_model(model2_t_path)\n",
        "  model3=load_model(model3_path)\n",
        " \n",
        "else:\n",
        " \n",
        "  print(\"Models not found. Creating them.\")\n",
        "  #Defining models' structure\n",
        "  \n",
        "  model1=create_model(\"model1\",node_count-1,nt_list_length)\n",
        "  model2_n=create_model(\"model2_n\",node_count,nt_list_length)\n",
        "  model2_t=create_model(\"model2_t\",node_count,t_list_length)\n",
        "  model3=create_model(\"model3\",node_count,nt_list_length)\n",
        " \n",
        "  for i in range(2 , num_files):  \n",
        "    \n",
        "    file_name=\"/content/programs_training_\"+ str(i+1) + \".json\" \n",
        "    print (\"Training model with file: \"+file_name) \n",
        "    with open(file_name,encoding=\"latin-1\") as train_file:\n",
        "    \n",
        "      json_strs=train_file.read().split('\\n')[:-1]\n",
        "      data = jsonstrs_to_data(json_strs)\n",
        "    \n",
        "    #Model 1 data\n",
        "    \n",
        "    #Creating X\n",
        "    data_X=data[:,:node_count-1,:]\n",
        "    X_model1= generate_combined_embeddings(data_X)\n",
        " \n",
        "    #Creating y\n",
        "    data_tkns = create_token(data)\n",
        "    y_model1=data_tkns[:,node_count-1,0]\n",
        "    y_model1_cat=to_categorical(y_model1,num_classes=nt_list_length)\n",
        " \n",
        "    #Model 2 and 3 data\n",
        "    (X_model2_n,y_model2_n_cat,X_model2_t,y_model2_t_cat,X_model3,y_model3_cat)=create23_data(data)\n",
        " \n",
        "    #training file by file \n",
        "    h1 = model1.fit(X_model1.astype(float),y_model1_cat.astype(float),epochs=32,validation_split=0.2,callbacks=[es])\n",
        "    h2_n = model2_n.fit(X_model2_n.astype(float),y_model2_n_cat.astype(float),epochs=32,validation_split=0.2,callbacks=[es])\n",
        "    h2_t = model2_t.fit(X_model2_t.astype(float),y_model2_t_cat.astype(float),epochs=32,validation_split=0.2,callbacks=[es])\n",
        "    h3 = model3.fit(X_model3.astype(float),y_model3_cat.astype(float),epochs=32,validation_split=0.2,callbacks=[es])\n",
        " \n",
        "    #Creating loss and accuracy list\n",
        "    loss_list1 , accuracy_list1, val_loss_list1, val_accuracy1 = save_model_history(h1, loss_list1 , accuracy_list1, val_loss_list1, val_accuracy1)\n",
        "    loss_list2_n , accuracy_list2_n, val_loss_list2_n, val_accuracy2_n = save_model_history(h2_n, loss_list2_n , accuracy_list2_n, val_loss_list2_n, val_accuracy2_n)\n",
        "    loss_list2_t , accuracy_list2_t, val_loss_list2_t, val_accuracy2_t = save_model_history(h2_t, loss_list2_t , accuracy_list2_t, val_loss_list2_t, val_accuracy2_t)\n",
        "    loss_list3 , accuracy_list3, val_loss_list3, val_accuracy3 = save_model_history(h3, loss_list3 , accuracy_list3, val_loss_list3, val_accuracy3)\n",
        "  \n",
        "  print(\"Saving the models.\")\n",
        "  #Saving the models\n",
        "  model1.save(model1_path)\n",
        "  model2_n.save(model2_n_path)\n",
        "  model2_t.save(model2_t_path)\n",
        "  model3.save(model3_path)"
      ],
      "execution_count": null,
      "outputs": [
        {
          "output_type": "stream",
          "text": [
            "Models found. Loading them.\n"
          ],
          "name": "stdout"
        }
      ]
    },
    {
      "cell_type": "code",
      "metadata": {
        "id": "QZkj0sy_q3M_",
        "colab_type": "code",
        "colab": {
          "base_uri": "https://localhost:8080/",
          "height": 1000
        },
        "outputId": "76e48096-135f-429a-85dd-f8ea7cd92723"
      },
      "source": [
        "display_loss_graph(\"model1\", loss_list1 , accuracy_list1, val_loss_list1, val_accuracy1 )\n",
        "display_loss_graph(\"model2\", loss_list2 , accuracy_list2, val_loss_list2, val_accuracy2 )\n",
        "display_loss_graph(\"model3\", loss_list3 , accuracy_list3, val_loss_list3, val_accuracy3 )\n",
        "display_loss_graph(\"model4\", loss_list4 , accuracy_list4, val_loss_list4, val_accuracy4 )"
      ],
      "execution_count": null,
      "outputs": [
        {
          "output_type": "display_data",
          "data": {
            "image/png": "[encoded data removed]",
            "text/plain": [
              "<Figure size 432x288 with 1 Axes>"
            ]
          },
          "metadata": {
            "tags": [],
            "needs_background": "light"
          }
        },
        {
          "output_type": "display_data",
          "data": {
            "image/png": "[encoded data removed]",
            "text/plain": [
              "<Figure size 432x288 with 1 Axes>"
            ]
          },
          "metadata": {
            "tags": [],
            "needs_background": "light"
          }
        },
        {
          "output_type": "display_data",
          "data": {
            "image/png": "[encoded data removed]",
            "text/plain": [
              "<Figure size 432x288 with 1 Axes>"
            ]
          },
          "metadata": {
            "tags": [],
            "needs_background": "light"
          }
        },
        {
          "output_type": "display_data",
          "data": {
            "image/png": "[encoded data removed]",
            "text/plain": [
              "<Figure size 432x288 with 1 Axes>"
            ]
          },
          "metadata": {
            "tags": [],
            "needs_background": "light"
          }
        },
        {
          "output_type": "display_data",
          "data": {
            "image/png": "[encoded data removed]",
            "text/plain": [
              "<Figure size 432x288 with 1 Axes>"
            ]
          },
          "metadata": {
            "tags": [],
            "needs_background": "light"
          }
        },
        {
          "output_type": "display_data",
          "data": {
            "image/png": "[encoded data removed]",
            "text/plain": [
              "<Figure size 432x288 with 1 Axes>"
            ]
          },
          "metadata": {
            "tags": [],
            "needs_background": "light"
          }
        },
        {
          "output_type": "display_data",
          "data": {
            "image/png": "[encoded data removed]",
            "text/plain": [
              "<Figure size 432x288 with 1 Axes>"
            ]
          },
          "metadata": {
            "tags": [],
            "needs_background": "light"
          }
        },
        {
          "output_type": "display_data",
          "data": {
            "image/png": "[encoded data removed]",
            "text/plain": [
              "<Figure size 432x288 with 1 Axes>"
            ]
          },
          "metadata": {
            "tags": [],
            "needs_background": "light"
          }
        },
        {
          "output_type": "display_data",
          "data": {
            "text/plain": [
              "<Figure size 432x288 with 0 Axes>"
            ]
          },
          "metadata": {
            "tags": []
          }
        }
      ]
    },
    {
      "cell_type": "markdown",
      "metadata": {
        "colab_type": "text",
        "id": "KZpnHGg6KVnJ"
      },
      "source": [
        "##4.Ensemble"
      ]
    },
    {
      "cell_type": "code",
      "metadata": {
        "id": "oa7SLjiaT6RN",
        "colab_type": "code",
        "colab": {}
      },
      "source": [
        "#reversing dictionaries to get the terminal/non-terminal from tokens\n",
        "nt_dict_rev={v:k for k,v in unique_nt_dict.items()}\n",
        "t_dict_rev={v:k for k,v in unique_t_dict.items()}"
      ],
      "execution_count": null,
      "outputs": []
    },
    {
      "cell_type": "code",
      "metadata": {
        "id": "8Zj9H-KlKZS4",
        "colab_type": "code",
        "colab": {}
      },
      "source": [
        "#creating data for evaluation\n",
        "with open(eval_file_path,encoding=\"latin-1\") as train_file:\n",
        "    json_strs=train_file.read(int(2e7)).split('\\n')[:-1]\n",
        "    data = jsonstrs_to_data(json_strs)"
      ],
      "execution_count": null,
      "outputs": []
    },
    {
      "cell_type": "markdown",
      "metadata": {
        "colab_type": "text",
        "id": "uGriV8bRiris"
      },
      "source": [
        ">### a. Model 1 (Parent Node)"
      ]
    },
    {
      "cell_type": "code",
      "metadata": {
        "id": "t1g5dvQLixo5",
        "colab_type": "code",
        "colab": {}
      },
      "source": [
        "#Creating X\n",
        "data_X=data[:,:node_count-1,:]\n",
        "X_model1= generate_combined_embeddings(data_X)\n",
        "\n",
        "#Creating y\n",
        "data_tkns = create_token(data)\n",
        "y_model1=data_tkns[:,node_count-1,0]\n",
        "y_model1_cat=to_categorical(y_model1,num_classes=nt_list_length)"
      ],
      "execution_count": null,
      "outputs": []
    },
    {
      "cell_type": "code",
      "metadata": {
        "id": "neiRSU4eQdJy",
        "colab_type": "code",
        "colab": {
          "base_uri": "https://localhost:8080/",
          "height": 33
        },
        "outputId": "f38b1b0b-72df-47ef-af79-cdd4cfc15f4b"
      },
      "source": [
        "#predicting parent tokens\n",
        "parent_tkns_cat=model1.predict(X_model1.astype(float))\n",
        "parent_tkns_pred=np.argmax(parent_tkns_cat,axis=1)\n",
        "parent_nt_pred=[nt_dict_rev[tkns] for tkns in parent_tkns_pred]\n",
        "print(\"Accuracy of model1 is:\",sum((y_model1 == parent_tkns_pred))/len(y_model1))"
      ],
      "execution_count": null,
      "outputs": [
        {
          "output_type": "stream",
          "text": [
            "Accuracy of model1 is: 0.8644859813084113\n"
          ],
          "name": "stdout"
        }
      ]
    },
    {
      "cell_type": "markdown",
      "metadata": {
        "colab_type": "text",
        "id": "0yOobOcdi2hi"
      },
      "source": [
        ">### b. Model 2 (Left Child)"
      ]
    },
    {
      "cell_type": "code",
      "metadata": {
        "id": "cz36Xk34QjR4",
        "colab_type": "code",
        "colab": {}
      },
      "source": [
        "for i in range(data.shape[0]):\n",
        "  data[i,embed_dim-1,0]=parent_nt_pred[i]"
      ],
      "execution_count": null,
      "outputs": []
    },
    {
      "cell_type": "code",
      "metadata": {
        "id": "sImt-m1oSKAd",
        "colab_type": "code",
        "colab": {
          "base_uri": "https://localhost:8080/",
          "height": 65,
          "referenced_widgets": [
            "3b3916aec4844588ba70f194de841238",
            "e4448c190dfa441b898c5ed6f3645ddc",
            "7197c71387d9455a974c555cafe69261",
            "0699da97f6324db8ac2d2ad1fa353bb2",
            "bd32b18c3a174d7d89f363bb8442821f",
            "346eece37f354a4ab1154dbbcd58355d",
            "07913f1221d34f698123ddc9bd188b21",
            "51c9b40c71384e3f9a8702e64500735a"
          ]
        },
        "outputId": "dc5e3e0d-15ce-477b-ca38-88aba9f46f9e"
      },
      "source": [
        "(X_model2_n,y_model2_n_cat,X_model2_t,y_model2_t_cat,X_model3,y_model3_cat)=create23_data(data)"
      ],
      "execution_count": null,
      "outputs": [
        {
          "output_type": "display_data",
          "data": {
            "application/vnd.jupyter.widget-view+json": {
              "model_id": "3b3916aec4844588ba70f194de841238",
              "version_minor": 0,
              "version_major": 2
            },
            "text/plain": [
              "HBox(children=(FloatProgress(value=0.0, max=214.0), HTML(value='')))"
            ]
          },
          "metadata": {
            "tags": []
          }
        },
        {
          "output_type": "stream",
          "text": [
            "\n"
          ],
          "name": "stdout"
        }
      ]
    },
    {
      "cell_type": "code",
      "metadata": {
        "id": "FSBXvbZpSYhu",
        "colab_type": "code",
        "colab": {
          "base_uri": "https://localhost:8080/",
          "height": 33
        },
        "outputId": "c5a2f1d8-73dc-4237-eaed-8a0329833c2f"
      },
      "source": [
        "#Predicting lc Non Terminal\n",
        "lc_nt_tkns_cat=model2_n.predict(X_model2_n.astype(float))\n",
        "lc_nt_tkns_pred=np.argmax(lc_nt_tkns_cat,axis=1)\n",
        "y_model2_n=np.argmax(y_model2_n_cat,axis=1)\n",
        "lc_nt_pred=[nt_dict_rev[tkns] for tkns in lc_nt_tkns_pred]\n",
        "print(\"Combined accuracy of model1 and model2_n is:\",sum((y_model2_n == lc_nt_tkns_pred))/len(y_model2_n))"
      ],
      "execution_count": null,
      "outputs": [
        {
          "output_type": "stream",
          "text": [
            "Combined accuracy of model1 and model2_n is: 0.6293103448275862\n"
          ],
          "name": "stdout"
        }
      ]
    },
    {
      "cell_type": "code",
      "metadata": {
        "id": "XumxQJJYSdd1",
        "colab_type": "code",
        "colab": {
          "base_uri": "https://localhost:8080/",
          "height": 33
        },
        "outputId": "96ba7a21-45bb-4f56-c78c-191baea4e402"
      },
      "source": [
        "#Predicting lc Terminal\n",
        "lc_t_tkns_cat=model2_t.predict(X_model2_t.astype(float))\n",
        "lc_t_tkns_pred=np.argmax(lc_t_tkns_cat,axis=1)\n",
        "y_model2_t=np.argmax(y_model2_t_cat,axis=1)\n",
        "lc_t_pred=[t_dict_rev[tkns] for tkns in lc_t_tkns_pred]\n",
        "print(\"Combined accuracy of model1 and model2_t is:\",sum((y_model2_t == lc_t_tkns_pred))/len(y_model2_t))"
      ],
      "execution_count": null,
      "outputs": [
        {
          "output_type": "stream",
          "text": [
            "Combined accuracy of model1 and model2_t is: 0.45918367346938777\n"
          ],
          "name": "stdout"
        }
      ]
    },
    {
      "cell_type": "markdown",
      "metadata": {
        "colab_type": "text",
        "id": "YjOY9pFPjTK7"
      },
      "source": [
        ">### a. Model 3 (Right Sibling)"
      ]
    },
    {
      "cell_type": "code",
      "metadata": {
        "id": "WFgasbcybRHd",
        "colab_type": "code",
        "colab": {}
      },
      "source": [
        "ntk=0\n",
        "tk=0\n",
        "for i in range(data.shape[0]):\n",
        "  tag_info=data[i][embed_dim-1][0][-2:]\n",
        "  if(tag_info==\"NA\" or tag_info==\"NP\"):\n",
        "    data[i,embed_dim-1,1]=lc_nt_pred[ntk]\n",
        "    ntk+=1\n",
        "  else:\n",
        "    data[i,embed_dim-1,1]=lc_t_pred[tk]\n",
        "    tk+=1"
      ],
      "execution_count": null,
      "outputs": []
    },
    {
      "cell_type": "code",
      "metadata": {
        "id": "S9qCh5yqiKXB",
        "colab_type": "code",
        "colab": {
          "base_uri": "https://localhost:8080/",
          "height": 65,
          "referenced_widgets": [
            "7fb0bed868a0436a861e598bf7950435",
            "334fb668b3474406b00ade60edb1945a",
            "d296f33061674600a69182f60415b7a6",
            "428eca6f7fc543278542960fee801256",
            "4ef7da8ef0f648b49344febb124d6d63",
            "d87b0efd58f7485f992a8ce43df91928",
            "a927132ec8084b03af50d298ee18f670",
            "8640d12a3e764eb69f854e454cb80432"
          ]
        },
        "outputId": "83b2ddd7-9dcf-4977-9781-0f2e8366db5a"
      },
      "source": [
        "(X_model2_n,y_model2_n_cat,X_model2_t,y_model2_t_cat,X_model3,y_model3_cat)=create23_data(data)"
      ],
      "execution_count": null,
      "outputs": [
        {
          "output_type": "display_data",
          "data": {
            "application/vnd.jupyter.widget-view+json": {
              "model_id": "7fb0bed868a0436a861e598bf7950435",
              "version_minor": 0,
              "version_major": 2
            },
            "text/plain": [
              "HBox(children=(FloatProgress(value=0.0, max=214.0), HTML(value='')))"
            ]
          },
          "metadata": {
            "tags": []
          }
        },
        {
          "output_type": "stream",
          "text": [
            "\n"
          ],
          "name": "stdout"
        }
      ]
    },
    {
      "cell_type": "code",
      "metadata": {
        "id": "cMJVIqvmiNpp",
        "colab_type": "code",
        "colab": {
          "base_uri": "https://localhost:8080/",
          "height": 33
        },
        "outputId": "529c0cab-50d9-4a3f-ecab-eaaa7ee8d2a6"
      },
      "source": [
        "#predicting rs tokens\n",
        "rs_tkns_cat=model3.predict(X_model3.astype(float))\n",
        "rs_tkns_pred=np.argmax(rs_tkns_cat,axis=1)\n",
        "y_model3=np.argmax(y_model3_cat,axis=1)\n",
        "rs_nt_pred=[nt_dict_rev[tkns] for tkns in rs_tkns_pred]\n",
        "print(\"Accuracy of ensemble is:\",sum((y_model3 == rs_tkns_pred))/len(y_model3))"
      ],
      "execution_count": null,
      "outputs": [
        {
          "output_type": "stream",
          "text": [
            "Accuracy of ensemble is: 0.6893203883495146\n"
          ],
          "name": "stdout"
        }
      ]
    },
    {
      "cell_type": "markdown",
      "metadata": {
        "id": "9etLzwbPl_Me",
        "colab_type": "text"
      },
      "source": [
        "Predicting the output of a sample program using the ensemble."
      ]
    },
    {
      "cell_type": "code",
      "metadata": {
        "id": "iAm6gp3e2Etr",
        "colab_type": "code",
        "colab": {
          "base_uri": "https://localhost:8080/",
          "height": 1000
        },
        "outputId": "f44c502c-92e5-4017-ed11-0e86e2eff0f8"
      },
      "source": [
        "json_str=json_strs[4]\n",
        "json_strs=[json_str]\n",
        "data = jsonstrs_to_data(json_strs)\n",
        "data"
      ],
      "execution_count": null,
      "outputs": [
        {
          "output_type": "execute_result",
          "data": {
            "text/plain": [
              "array([[['Program:NA', 'VariableDeclaration:NP', 'NULL'],\n",
              "        ['VariableDeclaration:NP', 'VariableDeclarator:NP',\n",
              "         'ExpressionStatement:NP'],\n",
              "        ['ExpressionStatement:NP', 'AssignmentExpression:NA',\n",
              "         'FunctionDeclaration:NP'],\n",
              "        ['FunctionDeclaration:NP', 'Identifier:TP',\n",
              "         'ExpressionStatement:NP'],\n",
              "        ['ExpressionStatement:NP', 'AssignmentExpression:NA',\n",
              "         'ExpressionStatement:NP'],\n",
              "        ['ExpressionStatement:NP', 'AssignmentExpression:NA',\n",
              "         'ExpressionStatement:NP'],\n",
              "        ['ExpressionStatement:NP', 'AssignmentExpression:NA',\n",
              "         'ExpressionStatement:NP'],\n",
              "        ['ExpressionStatement:NP', 'AssignmentExpression:NA',\n",
              "         'ExpressionStatement:NP'],\n",
              "        ['ExpressionStatement:NP', 'AssignmentExpression:NA',\n",
              "         'ExpressionStatement:NA'],\n",
              "        ['ExpressionStatement:NA', 'AssignmentExpression:NA', 'NULL'],\n",
              "        ['AssignmentExpression:NA', 'MemberExpression:NP', 'NULL'],\n",
              "        ['MemberExpression:NP', 'MemberExpression:NP',\n",
              "         'FunctionExpression:NA'],\n",
              "        ['FunctionExpression:NA', 'Identifier:TP', 'NULL'],\n",
              "        ['Identifier:TP', 'out', 'Identifier:TP'],\n",
              "        ['Identifier:TP', 'position', 'Identifier:TP'],\n",
              "        ['Identifier:TP', 'angle', 'BlockStatement:NA'],\n",
              "        ['BlockStatement:NA', 'VariableDeclaration:NP', 'NULL'],\n",
              "        ['VariableDeclaration:NP', 'VariableDeclarator:NA',\n",
              "         'ExpressionStatement:NP'],\n",
              "        ['ExpressionStatement:NP', 'CallExpression:NA',\n",
              "         'ExpressionStatement:NP'],\n",
              "        ['ExpressionStatement:NP', 'CallExpression:NA',\n",
              "         'IfStatement:NA'],\n",
              "        ['IfStatement:NA', 'Identifier:TP', 'NULL'],\n",
              "        ['Identifier:TP', 'position', 'BlockStatement:NA'],\n",
              "        ['BlockStatement:NA', 'ExpressionStatement:NP', 'NULL'],\n",
              "        ['ExpressionStatement:NP', 'CallExpression:NA',\n",
              "         'ExpressionStatement:NA'],\n",
              "        ['ExpressionStatement:NA', 'CallExpression:NA', 'NULL'],\n",
              "        ['CallExpression:NA', 'MemberExpression:NP', 'NULL'],\n",
              "        ['MemberExpression:NP', 'Identifier:TP', 'MemberExpression:NP'],\n",
              "        ['MemberExpression:NP', 'Identifier:TP', 'MemberExpression:NP'],\n",
              "        ['MemberExpression:NP', 'Identifier:TP', 'Identifier:TA'],\n",
              "        ['Identifier:TA', 'position', 'NULL'],\n",
              "        ['Identifier:TP', 'out', 'Property:TA'],\n",
              "        ['Property:TA', 'upperBound', 'NULL'],\n",
              "        ['Identifier:TP', 'out', 'Property:TA'],\n",
              "        ['Property:TA', 'upperBound', 'NULL'],\n",
              "        ['Identifier:TP', 'vec2', 'Property:TA'],\n",
              "        ['Property:TA', 'add', 'NULL'],\n",
              "        ['CallExpression:NA', 'MemberExpression:NP', 'NULL'],\n",
              "        ['MemberExpression:NP', 'Identifier:TP', 'MemberExpression:NP'],\n",
              "        ['MemberExpression:NP', 'Identifier:TP', 'MemberExpression:NP'],\n",
              "        ['MemberExpression:NP', 'Identifier:TP', 'Identifier:TA'],\n",
              "        ['Identifier:TA', 'position', 'NULL'],\n",
              "        ['Identifier:TP', 'out', 'Property:TA'],\n",
              "        ['Property:TA', 'lowerBound', 'NULL'],\n",
              "        ['Identifier:TP', 'out', 'Property:TA'],\n",
              "        ['Property:TA', 'lowerBound', 'NULL'],\n",
              "        ['Identifier:TP', 'vec2', 'Property:TA'],\n",
              "        ['Property:TA', 'add', 'NULL'],\n",
              "        ['CallExpression:NA', 'MemberExpression:NP', 'NULL'],\n",
              "        ['MemberExpression:NP', 'Identifier:TP', 'MemberExpression:NP'],\n",
              "        ['MemberExpression:NP', 'Identifier:TP', 'UnaryExpression:NP']]],\n",
              "      dtype=object)"
            ]
          },
          "metadata": {
            "tags": []
          },
          "execution_count": 120
        }
      ]
    },
    {
      "cell_type": "code",
      "metadata": {
        "id": "UWfnAvD2m6MK",
        "colab_type": "code",
        "colab": {
          "base_uri": "https://localhost:8080/",
          "height": 65,
          "referenced_widgets": [
            "7576c2ac833848e99de7119f4918ccbd",
            "47a0eb09b7fc43588cee4272f3c2d0f2",
            "f5d3b0f0969d4db6876d0f4c1d35d712",
            "2a2a48be1df142c393e52701b1f5edb4",
            "c614a96be5a044788872e455e8a42a8f",
            "218dbcae69074a0c8cee2ebe5badc37b",
            "d7cf9555c8fe4351865a385798088a56",
            "fea47f3a94124a56978267b1175db300"
          ]
        },
        "outputId": "0524ed6b-f567-4b1b-b4ed-890177ee9f5e"
      },
      "source": [
        "#Creating X\n",
        "data_X=data[:,:node_count-1,:]\n",
        "X_model1= generate_combined_embeddings(data_X)\n",
        "\n",
        "#Creating y\n",
        "data_tkns = create_token(data)\n",
        "y_model1=data_tkns[:,node_count-1,0]\n",
        "y_model1_cat=to_categorical(y_model1,num_classes=nt_list_length)\n",
        "\n",
        "#predicting parent tokens\n",
        "parent_tkns_cat=model1.predict(X_model1.astype(float))\n",
        "parent_tkns_pred=np.argmax(parent_tkns_cat,axis=1)\n",
        "parent_nt_pred=[nt_dict_rev[tkns] for tkns in parent_tkns_pred]\n",
        "for i in range(data.shape[0]):\n",
        "  data[i,embed_dim-1,0]=parent_nt_pred[i]\n",
        "(X_model2_n,y_model2_n_cat,X_model2_t,y_model2_t_cat,X_model3,y_model3_cat)=create23_data(data)\n",
        "\n",
        "#Predicting lc Non Terminal\n",
        "lc_nt_tkns_cat=model2_n.predict(X_model2_n.astype(float))\n",
        "lc_nt_tkns_pred=np.argmax(lc_nt_tkns_cat,axis=1)\n",
        "y_model2_n=np.argmax(y_model2_n_cat,axis=1)\n",
        "lc_nt_pred=[nt_dict_rev[tkns] for tkns in lc_nt_tkns_pred]\n",
        "ntk=0\n",
        "tk=0\n",
        "for i in range(data.shape[0]):\n",
        "  tag_info=data[i][embed_dim-1][0][-2:]\n",
        "  if(tag_info==\"NA\" or tag_info==\"NP\"):\n",
        "    data[i,embed_dim-1,1]=lc_nt_pred[ntk]\n",
        "    ntk+=1\n",
        "  else:\n",
        "    data[i,embed_dim-1,1]=lc_t_pred[tk]\n",
        "    tk+=1\n",
        "\n",
        "#predicting rs tokens\n",
        "rs_tkns_cat=model3.predict(X_model3.astype(float))\n",
        "rs_tkns_pred=np.argmax(rs_tkns_cat,axis=1)\n",
        "y_model3=np.argmax(y_model3_cat,axis=1)\n",
        "rs_nt_pred=[nt_dict_rev[tkns] for tkns in rs_tkns_pred]"
      ],
      "execution_count": null,
      "outputs": [
        {
          "output_type": "display_data",
          "data": {
            "application/vnd.jupyter.widget-view+json": {
              "model_id": "7576c2ac833848e99de7119f4918ccbd",
              "version_minor": 0,
              "version_major": 2
            },
            "text/plain": [
              "HBox(children=(FloatProgress(value=0.0, max=1.0), HTML(value='')))"
            ]
          },
          "metadata": {
            "tags": []
          }
        },
        {
          "output_type": "stream",
          "text": [
            "\n"
          ],
          "name": "stdout"
        }
      ]
    },
    {
      "cell_type": "code",
      "metadata": {
        "id": "m0u_SfZ99pbo",
        "colab_type": "code",
        "colab": {
          "base_uri": "https://localhost:8080/",
          "height": 33
        },
        "outputId": "577f7667-9a8d-48cd-9903-e124ad84733d"
      },
      "source": [
        "[parent_nt_pred[0], lc_nt_pred[0], rs_nt_pred[0]]"
      ],
      "execution_count": null,
      "outputs": [
        {
          "output_type": "execute_result",
          "data": {
            "text/plain": [
              "['MemberExpression:NP', 'Identifier:TP', 'UnaryExpression:NP']"
            ]
          },
          "metadata": {
            "tags": []
          },
          "execution_count": 127
        }
      ]
    }
  ]
}